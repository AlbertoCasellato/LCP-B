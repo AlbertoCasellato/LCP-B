{
 "cells": [
  {
   "cell_type": "code",
   "execution_count": 96,
   "id": "01f82c03-f6cc-4c5a-b4d7-9d2381485629",
   "metadata": {},
   "outputs": [
    {
     "data": {
      "text/plain": [
       "inf"
      ]
     },
     "execution_count": 96,
     "metadata": {},
     "output_type": "execute_result"
    }
   ],
   "source": [
    "import numpy as np\n",
    "\n",
    "D = 784\n",
    "L = 12\n",
    "a = np.random.uniform(0, 1, D)\n",
    "b = np.random.uniform(0, 1, L)\n",
    "x = np.random.randint(0, 2, D)\n",
    "z = np.random.randint(0, 2, L)\n",
    "w = np.random.uniform(0, 1, (D, L))\n",
    "\n",
    "\n",
    "# TODO: implement sum of G(z) over z in Num and Den\n",
    "class LOGlike(object):\n",
    "    \"\"\"\n",
    "    FORMAT:\n",
    "    D = 784   # visible\n",
    "    L = 12    # hidden\n",
    "    a = np.random.uniform(0, 1, D)\n",
    "    b = np.random.uniform(0, 1, L)\n",
    "    x = np.random.randint(0, 2, D)\n",
    "    z = np.random.randint(0, 2, L)\n",
    "    w = np.random.uniform(0, 1, (D, L))\n",
    "    \"\"\"\n",
    "    \n",
    "    def __init__(self, a, b, x, z, w):\n",
    "        self.a = a   # visible\n",
    "        self.b = b   # hidden\n",
    "        self.D = a.shape[0]\n",
    "        self.L = b.shape[0]\n",
    "        self.x = x\n",
    "        self.z = z\n",
    "        self.w = w\n",
    "        self.sum  = lambda x: np.array(x).sum()\n",
    "        self.prod = lambda x: np.array(x).prod()\n",
    "        self.H    = lambda i: self.a[i] + self.sum([self.w[i][mu] * self.z[mu] for mu in range(self.L)])\n",
    "        self.G    = lambda:   self.sum([np.exp(self.b[mu] * self.z[mu])        for mu in range(self.L)])\n",
    "        self.esit = None\n",
    "        #\n",
    "    #####\n",
    "    #\n",
    "    def run(self):\n",
    "        Num = self.prod([np.exp(x[i] * self.H(i)) for i in range(self.D)])\n",
    "        Den = np.array([1 + np.exp(self.H(i))     for i in range(self.D)])\n",
    "        q   = Den.mean()\n",
    "        Den = (Den / q).prod()\n",
    "        self.esit =  np.log(Num / Den) - (D * np.log(q))\n",
    "        #\n",
    "    #####\n",
    "    #\n",
    "    def print(self):\n",
    "        return self.esit\n",
    "        #\n",
    "    #####\n",
    "    #\n",
    "#####\n",
    "\n",
    "log_likehood0 = LOGlike(a, b, x, z, w)\n",
    "log_likehood0.run()\n",
    "log_likehood0.print()"
   ]
  }
 ],
 "metadata": {
  "kernelspec": {
   "display_name": "Python 3 (ipykernel)",
   "language": "python",
   "name": "python3"
  },
  "language_info": {
   "codemirror_mode": {
    "name": "ipython",
    "version": 3
   },
   "file_extension": ".py",
   "mimetype": "text/x-python",
   "name": "python",
   "nbconvert_exporter": "python",
   "pygments_lexer": "ipython3",
   "version": "3.12.2"
  }
 },
 "nbformat": 4,
 "nbformat_minor": 5
}
