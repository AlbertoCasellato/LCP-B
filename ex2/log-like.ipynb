{
 "cells": [
  {
   "cell_type": "code",
   "execution_count": 13,
   "id": "01f82c03-f6cc-4c5a-b4d7-9d2381485629",
   "metadata": {},
   "outputs": [
    {
     "name": "stderr",
     "output_type": "stream",
     "text": [
      "/tmp/ipykernel_2349/1759554974.py:67: RuntimeWarning: overflow encountered in scalar power\n",
      "  qs[-1]  = qs[-1] ** self.D\n",
      "/tmp/ipykernel_2349/1759554974.py:79: RuntimeWarning: invalid value encountered in scalar divide\n",
      "  self.esit = np.log(get_numerator() / get_denominator())\n"
     ]
    },
    {
     "data": {
      "text/plain": [
       "nan"
      ]
     },
     "execution_count": 13,
     "metadata": {},
     "output_type": "execute_result"
    }
   ],
   "source": [
    "import numpy as np\n",
    "\n",
    "D = 784\n",
    "L = 12\n",
    "a = np.random.uniform(0, 1, D)\n",
    "b = np.random.uniform(0, 1, L)\n",
    "x = np.random.randint(0, 2, D)\n",
    "w = np.random.uniform(0, 1, (D, L))\n",
    "\n",
    "\n",
    "# TODO: implement sum of G(z) over z in Num and Den\n",
    "class LOGlike(object):\n",
    "    \"\"\"\n",
    "    FORMAT:\n",
    "    D = 784   # visible\n",
    "    L = 12    # hidden\n",
    "    a = np.random.uniform(0, 1, D)\n",
    "    b = np.random.uniform(0, 1, L)\n",
    "    x = np.random.randint(0, 2, D)\n",
    "    z = np.random.randint(0, 2, L)\n",
    "    w = np.random.uniform(0, 1, (D, L))\n",
    "    \"\"\"\n",
    "    def make_z_states(self):\n",
    "        def get_bin(i, L):\n",
    "            b = bin(i)[2:]\n",
    "            return (\"0\" * (L - len(b))) + b\n",
    "            #\n",
    "        #####\n",
    "        #\n",
    "        self.zs = np.array([[int(bit) for bit in get_bin(i, self.L)] for i in range(2 ** self.L)])\n",
    "        #\n",
    "    #####\n",
    "    #   \n",
    "    def __init__(self, a, b, x, w):\n",
    "        self.a = a   # visible\n",
    "        self.b = b   # hidden\n",
    "        self.D = a.shape[0]\n",
    "        self.L = b.shape[0]\n",
    "        self.x = x\n",
    "        self.w = w\n",
    "        self.sum  = lambda x: np.array(x).sum()\n",
    "        self.prod = lambda x: np.array(x).prod()\n",
    "        self.H    = lambda i, z: self.a[i] + self.sum([self.w[i][mu] * self.zs[z][mu] for mu in range(self.L)])\n",
    "        self.G    = lambda z:    self.sum([np.exp(self.b[mu] * self.zs[z][mu])        for mu in range(self.L)])\n",
    "        self.esit = None\n",
    "        self.zs   = None\n",
    "        self.make_z_states()\n",
    "        #\n",
    "    #####\n",
    "    #\n",
    "    def run(self):\n",
    "        def get_numerator():\n",
    "            return self.sum([self.G(z) * self.prod([np.exp(x[i] * self.H(i, z))\n",
    "                                                       for i in range(self.D)])\n",
    "                                                       for z in range(self.L)])\n",
    "            #\n",
    "        #####\n",
    "        #\n",
    "        def get_denominator():\n",
    "            ds = []\n",
    "            qs = []\n",
    "            #\n",
    "            for z in range(self.L):\n",
    "                den     = np.array([1 + np.exp(self.H(i, z)) for i in range(self.D)])\n",
    "                qs     += [den.mean()]\n",
    "                ds     += [(den / qs[-1]).prod()]\n",
    "                qs[-1]  = qs[-1] ** self.D\n",
    "                #\n",
    "            #####\n",
    "            #\n",
    "            ds = np.array(ds)\n",
    "            qs = np.array(qs)\n",
    "            gs = np.array([self.G(z) for z in range(self.L)])\n",
    "            #\n",
    "            return (ds * qs * gs).sum()\n",
    "            #\n",
    "        #####\n",
    "        #\n",
    "        self.esit = np.log(get_numerator() / get_denominator())\n",
    "        #\n",
    "    #####\n",
    "    #\n",
    "    def print(self):\n",
    "        return self.esit\n",
    "        #\n",
    "    #####\n",
    "    #\n",
    "#####\n",
    "\n",
    "log_likehood0 = LOGlike(a, b, x, w)\n",
    "log_likehood0.run()\n",
    "log_likehood0.print()"
   ]
  },
  {
   "cell_type": "code",
   "execution_count": null,
   "id": "e4612224-4c27-48bf-914b-3d0dcad12219",
   "metadata": {},
   "outputs": [],
   "source": []
  }
 ],
 "metadata": {
  "kernelspec": {
   "display_name": "Python 3 (ipykernel)",
   "language": "python",
   "name": "python3"
  },
  "language_info": {
   "codemirror_mode": {
    "name": "ipython",
    "version": 3
   },
   "file_extension": ".py",
   "mimetype": "text/x-python",
   "name": "python",
   "nbconvert_exporter": "python",
   "pygments_lexer": "ipython3",
   "version": "3.12.2"
  }
 },
 "nbformat": 4,
 "nbformat_minor": 5
}
