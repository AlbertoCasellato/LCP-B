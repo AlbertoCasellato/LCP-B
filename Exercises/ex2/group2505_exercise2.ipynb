{
 "cells": [
  {
   "cell_type": "markdown",
   "id": "e3ad95cb",
   "metadata": {},
   "source": [
    "# Restricted Boltzmann Machine - MNIST\n",
    "\n",
    "**Group 5**:\n",
    "- Elias Maria Bonasera (2149751)\n",
    "- Alberto Casellato (2139206)\n",
    "- Nicola Garbin (2156363)\n",
    "- Francesco Pazzocco (2165861)"
   ]
  },
  {
   "cell_type": "code",
   "execution_count": 2,
   "id": "3e0b4ff7",
   "metadata": {},
   "outputs": [],
   "source": [
    "import numpy as np\n",
    "import scipy\n",
    "import matplotlib.pyplot as plt\n",
    "import matplotlib.cm as cm\n",
    "from matplotlib.animation import FuncAnimation\n",
    "from sklearn.datasets import fetch_openml\n",
    "from IPython.display import HTML\n",
    "import scienceplots\n",
    "#\n",
    "np.random.seed(42)\n",
    "#np.random.seed(420)\n",
    "#np.random.seed(483)\n",
    "#np.random.seed(2389)\n",
    "#np.random.seed(12)\n",
    "#np.random.seed(42903)\n",
    "#np.random.seed(3492)\n",
    "#np.random.seed(324)\n",
    "#np.random.seed(1290)\n",
    "#np.random.seed(127)\n",
    "plt.style.use([\"science\", \"grid\", \"notebook\"])"
   ]
  },
  {
   "cell_type": "code",
   "execution_count": 3,
   "id": "5f5aeb0c",
   "metadata": {},
   "outputs": [],
   "source": [
    "class LOGlike(object):\n",
    "    \"\"\"\n",
    "    FORMAT:\n",
    "    D = 784      # visible\n",
    "    L = 12       # hidden\n",
    "    M = len(x)   # number of data points\n",
    "    a = np.random.uniform(-1, 1, D)\n",
    "    b = np.random.uniform(-1, 1, L)\n",
    "    x = np.random.randint(0, 2, (M, D))\n",
    "    z = np.random.randint(0, 2, L)\n",
    "    w = np.random.uniform(-1, 1, (D, L))\n",
    "    \"\"\"\n",
    "\n",
    "    def __init__(self, x, L, spins = False):\n",
    "        self.a = None # a   # visible\n",
    "        self.b = None # b   # hidden\n",
    "        self.D = None # a.shape[0]\n",
    "        self.L = None # b.shape[0]\n",
    "        self.x = x\n",
    "        self.spins = spins\n",
    "        self.M = len(x)\n",
    "        self.w = None # w\n",
    "        self.q = None\n",
    "        self.k = None\n",
    "        self.esit = []\n",
    "        self.esit_ix = []\n",
    "        self.z = None\n",
    "        #\n",
    "    #####\n",
    "    #\n",
    "    def initialization(self, a, b, w):\n",
    "        self.a = a   # visible\n",
    "        self.b = b   # hidden\n",
    "        self.D = a.shape[0]\n",
    "        self.L = b.shape[0]\n",
    "        self.w = w\n",
    "        self.make_z_states()\n",
    "        self.H_and_G()\n",
    "        #\n",
    "    #####\n",
    "    #\n",
    "    def H_and_G(self):\n",
    "        \n",
    "        self.H_z_matrix = np.array([self.H(z) for z in self.z])  # Shape (2^L, D)\n",
    "        self.G_z_vector = np.array([self.G(z) for z in self.z])  # Shape (2^L,)\n",
    "        tmp             = self.H_z_matrix @ self.x.T\n",
    "        self.k          = np.mean(tmp)\n",
    "        #\n",
    "    #####\n",
    "    #\n",
    "    def make_z_states(self):\n",
    "        \"\"\"\n",
    "        2^L config\n",
    "        \"\"\"\n",
    "        \n",
    "        def get_bin(i, L):\n",
    "            b = bin(i)[2:]\n",
    "            return (\"0\" * (L - len(b))) + b\n",
    "            #\n",
    "        #####\n",
    "        #\n",
    "        self.z = np.array([[int(bit) for bit in get_bin(i, self.L)]\n",
    "                                       for i in range(2 ** self.L)])\n",
    "        if self.spins:\n",
    "            self.z[self.z == 0] = -1\n",
    "            #\n",
    "        #####\n",
    "        #\n",
    "    #####\n",
    "    #\n",
    "    def H(self, z):\n",
    "        \"\"\"\n",
    "        H(z) = a + w @ z\n",
    "        \"\"\"\n",
    "        \n",
    "        return self.a + np.dot(self.w, z)\n",
    "        #\n",
    "    #####\n",
    "    #\n",
    "    def G(self, z):\n",
    "        \"\"\"\n",
    "        G(z) = exp(b @ z).\n",
    "        \"\"\"\n",
    "        \n",
    "        return np.exp(np.dot(self.b, z))\n",
    "        #\n",
    "    #####\n",
    "    #\n",
    "    def get_logsumexp(self, exps):\n",
    "        max   = exps.max()\n",
    "        exps  = exps[exps >= (max - 50)]\n",
    "        min   = exps.min()\n",
    "        exps -= min\n",
    "        esit  = min + np.log(np.exp(exps).sum())\n",
    "        return esit\n",
    "        #\n",
    "    #####\n",
    "    #\n",
    "    def get_numerator(self, x):\n",
    "        \"\"\"\n",
    "        ln{sum_z[G(z) * exp[dot(H_i(z) * x_i)]]}\n",
    "        \"\"\"\n",
    "        prod     = np.dot(self.H_z_matrix, x)\n",
    "        log_G    = np.log(self.G_z_vector)\n",
    "        log_term = log_G + prod\n",
    "        max      = np.max(log_term)\n",
    "        final    = max + np.log(np.sum(np.exp(log_term - max)))\n",
    "        return final\n",
    "        #\n",
    "    #####\n",
    "    #\n",
    "    \"\"\"\n",
    "    def get_numerator(self, x):\n",
    "        \\\"\"\"\n",
    "        ln{sum_z[G(z) * exp[dot(H_i(z) * x_i)]]}\n",
    "        \\\"\"\"\n",
    "\n",
    "        # return scipy.special.logsumexp(self.H_z_matrix @ x)\n",
    "        exps      = np.log(self.G_z_vector) + (self.H_z_matrix @ x)  # Shape (2^L,)\n",
    "        return self.get_logsumexp(exps)\n",
    "        # numerator = np.sum(self.G_z_vector * exp_H_x)\n",
    "        # return k + np.log(numerator)\n",
    "        #\n",
    "    #####\n",
    "    #\n",
    "    \"\"\"\n",
    "    def get_denominator(self):\n",
    "        \"\"\"\n",
    "        ln(Z) = D * ln(q) + ln{sum_z[G(z) * prod_i[(1 + H_i(z)) / q]]}\n",
    "        \"\"\"\n",
    "\n",
    "        # q average over 1+exp(H_i(z))\n",
    "        self.q = 1 + np.exp(np.mean(self.H_z_matrix))\n",
    "\n",
    "        # sum_Z\n",
    "        prod_H_q = np.prod((1 + np.exp(self.H_z_matrix)) / self.q, axis = 1)  # Shape (2^L,)\n",
    "        Z_value  = np.sum(self.G_z_vector * prod_H_q)\n",
    "\n",
    "        return self.D * np.log(self.q) + np.log(Z_value)\n",
    "        #\n",
    "    #####\n",
    "    #\n",
    "    def get_denominator_spin(self):\n",
    "        \"\"\"\n",
    "        Computes ln(Z) = ln{ sum_z [ G(z) * prod_i (2*cosh(H_i(z))) ] } \n",
    "        using log-space arithmetic to prevent overflow.\n",
    "        \"\"\"\n",
    "        # Stable computation of log(2*cosh(H)) for all elements in H_z_matrix\n",
    "        H_abs = np.abs(self.H_z_matrix)  # |H_i(z)|\n",
    "        log_2cosh_terms = H_abs + np.log1p(np.exp(-2 * H_abs))  # Vectorized over all (z, i)\n",
    "\n",
    "        # Sum over i (axis=1) to get log(prod_i 2cosh(H_i(z))) for each z\n",
    "        log_prod_H = np.sum(log_2cosh_terms, axis=1)  # Shape: (2^L,)\n",
    "\n",
    "        # Compute log(G(z)) for all z\n",
    "        log_G = np.log(self.G_z_vector)  # Shape: (2^L,)\n",
    "\n",
    "        # Combine terms: log(G(z)) + log(prod_i 2cosh(H_i(z)))\n",
    "        log_terms = log_G + log_prod_H  # Shape: (2^L,)\n",
    "\n",
    "        # Log-sum-exp trick to compute ln(Z)\n",
    "        max_log_term = np.max(log_terms)\n",
    "        log_Z = max_log_term + np.log(np.sum(np.exp(log_terms - max_log_term)))\n",
    "\n",
    "        return log_Z\n",
    "    \"\"\"\n",
    "    def get_denominator_spin(self):\n",
    "        \\\"\"\"\n",
    "        Computes ln(Z) = ln{ sum_z [ G(z) * prod_i (2*cosh(H_i(z))) ] } \n",
    "        using numerically stable log-space arithmetic.\n",
    "        \\\"\"\"\n",
    "        # Compute log(2*cosh(H_i(z))) for all H_i(z) using vectorization\n",
    "        H_abs = np.abs(self.H_z_matrix)  # |H_i(z)|\n",
    "        log_2cosh_terms = H_abs + np.log1p(np.exp(-2 * H_abs))  # Stable log(2*cosh(H_i(z)))\n",
    "    \n",
    "        # Sum over i (axis=1) to get log(prod_i 2cosh(H_i(z))) for each z\n",
    "        log_prod_H = np.sum(log_2cosh_terms, axis=1)  # Shape: (2^L,)\n",
    "    \n",
    "        # Compute log(G(z)) for all z\n",
    "        log_G = np.log(self.G_z_vector)  # Shape: (2^L,)\n",
    "    \n",
    "        # Combine terms: log(G(z)) + log(prod_i 2cosh(H_i(z)))\n",
    "        log_terms = log_G + log_prod_H  # Shape: (2^L,)\n",
    "    \n",
    "        # Log-sum-exp trick to compute ln(Z)\n",
    "        max_log_term = np.max(log_terms)\n",
    "        log_Z = max_log_term + np.log(np.sum(np.exp(log_terms - max_log_term)))\n",
    "    \n",
    "        return log_Z\n",
    "    '''\n",
    "    \\\"\"\"\n",
    "    def get_denominator_spin(self):\n",
    "        \\\"\"\"\n",
    "        ln(Z) = D * ln(q) + ln{sum_z[G(z) * prod_i[cosh(H_i(z)) / q]]}\n",
    "        \\\"\"\"\n",
    "        \n",
    "        #return scipy.special.logsumexp()\n",
    "        # q average over cosh(H_i(z))\n",
    "        #self.q = np.cosh(np.mean(self.H_z_matrix))\n",
    "        #\n",
    "        # sum_Z\n",
    "        #prod_H_q = np.prod(2 * np.cosh(self.H_z_matrix) / self.q, axis = 1)  # Shape (2^L,)\n",
    "        #Z_value  = np.sum(self.G_z_vector * prod_H_q)\n",
    "        #\n",
    "        #return self.D * np.log(self.q) + np.log(Z_value)    \n",
    "        #\n",
    "        #approx = 100\n",
    "        #max    = self.H_z_matrix.max()\n",
    "        #shift  = max + approx\n",
    "        #exps   = np.log(self.G_z_vector) + (abs(self.H_z_matrix - shift)).sum(axis = 1)\n",
    "        #esit   = self.get_logsumexp(exps)\n",
    "        \n",
    "        return np.log(self.G_z_vector) + (self.H_z_matrix + np.log(1 + np.exp(-2 * self.H_z_matrix))).sum(axis = 1)\n",
    "        #return self.D * shift + esit\n",
    "        #\n",
    "    #####\n",
    "    \"\"\"\n",
    "    #\n",
    "    #'''\n",
    "    def run(self):\n",
    "        \"\"\"\n",
    "        l_θ(x) = ln{sum_z[G(z) * exp(H_i(z) * x_i)]} - ln{Z}\n",
    "        \"\"\"\n",
    "        if (self.spins == False):\n",
    "            lnZ = self.get_denominator()\n",
    "        else:\n",
    "            lnZ = self.get_denominator_spin()\n",
    "            #\n",
    "        #####\n",
    "        #\n",
    "        log_likelihoods = np.array([self.get_numerator(x) - lnZ for x in self.x])\n",
    "        self.esit.append(np.mean(log_likelihoods))\n",
    "        #\n",
    "    #####\n",
    "    #\n",
    "    def save(self):\n",
    "        print(self.esit)\n",
    "        '''file = open(\"L/\" + str(self.L) + \".txt\", \"tw\")\n",
    "        file.write(str(self.esit))\n",
    "        file.close()'''\n",
    "        #\n",
    "    #####\n",
    "    #\n",
    "#####"
   ]
  },
  {
   "cell_type": "code",
   "execution_count": 4,
   "id": "ba297b04",
   "metadata": {},
   "outputs": [],
   "source": [
    "class RBM:\n",
    "    def __init__(self, x, L, spins=False, potts=False):\n",
    "        \"\"\"\n",
    "        - x: dataset\n",
    "        - L: number of hidden units\n",
    "        - spins: if True sets x_min=-1, else x_min=0\n",
    "        \"\"\"\n",
    "        \n",
    "        if potts and spins: raise ValueError(\"Potts and Spins cannot coexist.\")\n",
    "        \n",
    "        self.x_min = -1 if spins else 0\n",
    "        self.x_max = 1\n",
    "        self.x = binarize_data(x, self.x_min, self.x_max)\n",
    "        self.data_size = len(self.x)\n",
    "        self.spins = spins\n",
    "        self.potts = potts\n",
    "        \n",
    "        self.D = self.x.shape[1]\n",
    "        self.L = L\n",
    "        \n",
    "        self.params = {\n",
    "            \"w\": None,\n",
    "            \"a\": None, \n",
    "            \"b\": None\n",
    "        }\n",
    "        self.params_history = {\n",
    "            \"w\": [], \n",
    "            \"a\": [], \n",
    "            \"b\": []\n",
    "        }\n",
    "        \n",
    "        self.log_likelihood = LOGlike(self.x, self.L, spins=spins)\n",
    "\n",
    "    def hinton_bias_init(self):\n",
    "        xmean = np.mean(self.x, axis=0)\n",
    "\n",
    "        # avoid divergence in log\n",
    "        delta = 1e-4\n",
    "        xmean = np.clip(xmean, self.x_min + delta, self.x_max - delta)\n",
    "\n",
    "        return np.clip(np.log(xmean-self.x_min) - np.log(self.x_max-xmean), -300, 300) \n",
    "    \n",
    "    def initialize_params(self):\n",
    "        self.params = {\n",
    "            \"w\": np.sqrt(4/(self.L + self.D)) * np.random.randn(self.D, self.L),\n",
    "            \"a\": self.hinton_bias_init(),\n",
    "            \"b\": np.zeros(self.L)\n",
    "        }\n",
    "        \n",
    "        self.params_history = {param: [self.params[param].copy()] for param in self.params.keys()}\n",
    "    \n",
    "    def contrastive_divergence(self, vector_input, weights, biases, POTTS=False):\n",
    "        H = np.clip( np.dot(vector_input, weights) + biases, -300, 300 )\n",
    "        a = np.exp( (self.x_max - self.x_min) * H )\n",
    "\n",
    "        output_size = H.shape\n",
    "        vector_output = np.full(output_size, self.x_min)\n",
    "        \n",
    "        if POTTS:\n",
    "            p = a / np.sum(a) # state probability\n",
    "            F = np.cumsum(p) # cumulative probability\n",
    "            r = np.random.rand()\n",
    "            i = 0\n",
    "            while r > F[i]:\n",
    "                i += 1\n",
    "            vector_output[i] = 1\n",
    "            \n",
    "        else:\n",
    "            p = a / (a + 1) # local probability\n",
    "            vector_output[np.random.random(output_size) < p] = self.x_max\n",
    "        \n",
    "        return vector_output\n",
    "\n",
    "    def plot_weights_bias(self, weights, biases, cols=0, s=1.5, cmap=\"bwr\", vmin=-4, vmax=4):\n",
    "        \"\"\"TODO: upgrade\"\"\"\n",
    "        rows = int(np.ceil( self.L / cols))\n",
    "        plt.clf()\n",
    "        fig, axes = plt.subplots(rows, cols, figsize=(s*(1+cols), s*rows))\n",
    "        for i in range(rows):\n",
    "            for j in range(cols):\n",
    "                if cols == 1:\n",
    "                    ax = axes[i]\n",
    "                else:\n",
    "                    ax = axes[i,j]\n",
    "                if i == j == 0:\n",
    "                    ax.imshow(biases.reshape((28,28)), cmap=cmap, vmin=vmin, vmax=vmax)\n",
    "                    ax.set_title(\"bias\")\n",
    "                else:\n",
    "                    ax.imshow(weights.T[i*cols+j-1].reshape((28,28)), cmap=cmap, vmin=vmin, vmax=vmax)\n",
    "                    ax.set_title(f\"hidden {i*cols+j}\")\n",
    "                ax.set_xticks([])\n",
    "                ax.set_yticks([])\n",
    "\n",
    "        plt.subplots_adjust(hspace=.3)\n",
    "        plt.show()\n",
    "        plt.close()\n",
    "\n",
    "    def training(self, optimizer=\"RMSprop\", epochs=150, batches=20, batch_i=10, batch_f=500, \n",
    "                 lr=0.05, epsilon=1e-4, cd_steps=2, gamma=0.001, verbose=False):\n",
    "        \n",
    "        if optimizer == \"SGD\":\n",
    "            lr_i, lr_f = 1., 0.25\n",
    "        elif optimizer == \"RMSprop\":\n",
    "            lr_i = lr_f = lr\n",
    "            beta, epsilon = 0.9, epsilon\n",
    "        else:\n",
    "            raise ValueError(\"Optimizer should either be SGD or RMSprop.\")\n",
    "        \n",
    "        s = {param:np.zeros_like(self.params[param]) for param in [\"w\", \"a\", \"b\"]}\n",
    "        list_indices = np.arange(self.x.shape[0])\n",
    "        \n",
    "        for epoch in range(1, epochs+1):\n",
    "            q = (epoch - 1) / (epochs - 1)\n",
    "            batch_size = int(batch_i + (batch_f-batch_i) * q**2)\n",
    "            lr = lr_i + (lr_f-lr_i) * q\n",
    "            \n",
    "            for _ in range(batches):\n",
    "                v_data, v_model = [np.zeros(self.D) for _ in range(2)]\n",
    "                h_data, h_model = [np.zeros(self.L) for _ in range(2)]\n",
    "                vh_data, vh_model = [np.zeros((self.D,self.L)) for _ in range(2)]\n",
    "                \n",
    "                selected_indices = np.random.choice(list_indices, batch_size, replace=False)\n",
    "                for i in range(batch_size):\n",
    "                    # positive CD phase\n",
    "                    v = self.x[selected_indices[i]]\n",
    "                    h = self.contrastive_divergence(v, self.params[\"w\"], self.params[\"b\"], POTTS=self.potts)\n",
    "                    \n",
    "                    v_data += v\n",
    "                    h_data += h\n",
    "                    vh_data += np.outer(v, h)\n",
    "                    \n",
    "                    # generate fantasy data\n",
    "                    hf = h.copy()\n",
    "                    for _ in range(cd_steps):\n",
    "                        # negative CD phase\n",
    "                        vf = self.contrastive_divergence(hf, self.params[\"w\"].T, self.params[\"a\"])\n",
    "                        # positive CD phase\n",
    "                        hf = self.contrastive_divergence(vf, self.params[\"w\"], self.params[\"b\"], POTTS=self.potts)\n",
    "\n",
    "                    v_model += vf\n",
    "                    h_model += hf\n",
    "                    vh_model += np.outer(vf, hf)\n",
    "                    \n",
    "                # gradient of likelihood\n",
    "                data_models = {\n",
    "                    \"w\": (vh_data,vh_model),\n",
    "                    \"a\": (v_data,v_model),\n",
    "                    \"b\": (h_data,h_model)\n",
    "                }\n",
    "                for param,(d,m) in data_models.items():            \n",
    "                    grad_theta = (d - m) / batch_size\n",
    "                    \n",
    "                    if optimizer == \"RMSprop\":\n",
    "                        s[param] = beta * s[param] + (1-beta) * grad_theta**2\n",
    "                        new_param = lr * grad_theta / np.sqrt(epsilon + s[param])\n",
    "                    else:\n",
    "                        new_param = lr * grad_theta\n",
    "\n",
    "                    self.params[param] += new_param\n",
    "\n",
    "                    if gamma > 0:\n",
    "                        self.params[param] -= (gamma * lr) * np.sign(self.params[param])\n",
    "            \n",
    "            # save weights and biases for every epoch\n",
    "            for param in [\"w\", \"a\", \"b\"]:\n",
    "                self.params_history[param].append(self.params[param].copy())\n",
    "            \n",
    "            # plot training process\n",
    "            if verbose:\n",
    "                print(f\"Epoch: {epoch} / {epochs}\", end=\"\\r\")\n",
    "                \n",
    "                # if epoch % 20 == 0: self.plot_weights_bias(self.params[\"w\"], self.params[\"a\"], cols=self.L//2)\n",
    "        \n",
    "        print(\"Training complete.\")\n",
    "    \n",
    "    def test(self, v_test, n=200, af=1):\n",
    "        v = v_test.copy()\n",
    "        v_history = []\n",
    "        h_history = []\n",
    "        for _ in range(n):\n",
    "            h = self.contrastive_divergence(v, self.params[\"w\"], self.params[\"b\"], POTTS=self.potts)\n",
    "            v = self.contrastive_divergence(h, af*self.params[\"w\"].T, af*self.params[\"a\"])\n",
    "            v_history.append(v)\n",
    "            h_history.append(h)\n",
    "        \n",
    "        return v_history, h_history\n",
    "\n",
    "    '''def likelihood_history(self, n=5):\n",
    "        self.log_likelihood.esit = []\n",
    "        if n == 1:\n",
    "            list_ix = [-1]\n",
    "        else:\n",
    "            list_ix = np.linspace(0, len(self.params_history[\"w\"])-1, n, dtype=int)\n",
    "        self.log_likelihood.esit_ix = list_ix.copy()\n",
    "        \n",
    "        for ix in list_ix:\n",
    "            self.log_likelihood.inizialization(\n",
    "                self.params_history[\"a\"][ix], self.params_history[\"b\"][ix], self.params_history[\"w\"][ix]\n",
    "            )\n",
    "            self.log_likelihood.run()'''\n",
    "    \n",
    "    def likelihood_history(self, npoints=5, from_last=1, step_last=1):\n",
    "        if npoints == 1:\n",
    "            list_ix = [-1]\n",
    "        else:\n",
    "            n_params = len(self.params_history[\"w\"])\n",
    "\n",
    "            list_ix2 = np.arange(n_params - step_last*from_last, n_params, step_last, dtype=int).tolist()\n",
    "            list_ix1 = np.linspace(0, list_ix2[0], npoints-from_last+1, dtype=int).tolist()[:-1]\n",
    "\n",
    "            list_ix = list_ix1 + list_ix2\n",
    "        \n",
    "        self.log_likelihood.esit_ix = list_ix.copy()\n",
    "\n",
    "        for ix in list_ix:\n",
    "            self.log_likelihood.initialization(\n",
    "                self.params_history[\"a\"][ix], self.params_history[\"b\"][ix], self.params_history[\"w\"][ix]\n",
    "            )\n",
    "            self.log_likelihood.run()"
   ]
  },
  {
   "cell_type": "code",
   "execution_count": 5,
   "id": "17a867b5",
   "metadata": {},
   "outputs": [],
   "source": [
    "def binarize_data(data, x_min=0, x_max=1):\n",
    "    return np.where(data/255 > 0.5, x_max, x_min)\n",
    "\n",
    "def save_model(model, filename):\n",
    "    np.savez(\n",
    "        f\"{filename}.npz\",\n",
    "        L = model.L,\n",
    "        spins = model.spins,\n",
    "        potts = model.potts,\n",
    "        history_w = np.array(model.params_history[\"w\"]),\n",
    "        history_a = np.array(model.params_history[\"a\"]),\n",
    "        history_b = np.array(model.params_history[\"b\"]),\n",
    "        list_esit_ix = np.array(model.log_likelihood.esit_ix),\n",
    "        list_esit = np.array(model.log_likelihood.esit)\n",
    "    )\n",
    "\n",
    "def load_model(file_path):\n",
    "    data = np.load(f\"{file_path}.npz\", allow_pickle=True)\n",
    "    model = RBM(np.array([[],]), data[\"L\"])\n",
    "    model.spins = data[\"spins\"]\n",
    "    model.potts = data[\"potts\"]\n",
    "    model.params_history = {\n",
    "            \"w\": data[\"history_w\"], \n",
    "            \"a\": data[\"history_a\"], \n",
    "            \"b\": data[\"history_b\"]\n",
    "        }\n",
    "    model.params = {\n",
    "            \"w\": model.params_history[\"w\"][-1],\n",
    "            \"a\": model.params_history[\"a\"][-1], \n",
    "            \"b\": model.params_history[\"b\"][-1]\n",
    "        }\n",
    "    model.log_likelihood.esit_ix = data[\"list_esit_ix\"]\n",
    "    model.log_likelihood.esit = data[\"list_esit\"]\n",
    "    \n",
    "    return model\n",
    "\n",
    "def plot_likelihood_evolutions(list_epochs, list_models_likelihoods, list_labels=None, grid=True, colors=[], title=\"\"):\n",
    "    colors = colors if colors else [\"tab:blue\", \"tab:orange\", \"tab:green\", \"tab:red\", \"tab:purple\", \"tab:pink\", \"tab:brown\", \"tab:olive\", \"tab:gray\", \"tab:cyan\"]\n",
    "    \n",
    "    for i,list_likelihoods in enumerate(list_models_likelihoods):\n",
    "        label = None if list_labels is None else list_labels[i]\n",
    "        plt.plot(list_epochs, list_likelihoods, \"o-\", color=colors[i], label=label)\n",
    "    \n",
    "    if list_labels:\n",
    "        plt.legend()\n",
    "    if grid:\n",
    "        plt.grid(linestyle=\"--\", alpha=0.3)\n",
    "    plt.title(title)\n",
    "    plt.xlabel(\"Epochs\")\n",
    "    plt.ylabel(\"Log-Likelihood\")\n",
    "    plt.show()\n",
    "\n",
    "def plot_likelihood_means(x, y, yerr=None, color=\"#00957c\", xlabel=\"Models\", rate_delta=0.5, title=\"\"):\n",
    "    plt.bar(x, y, yerr=yerr, color=color, capsize=3, alpha=0.7, edgecolor=\"k\")\n",
    "    y_min, y_max = plt.ylim()\n",
    "    delta = min(y) - y_min\n",
    "    \n",
    "\n",
    "    plt.grid(alpha=0.5, linestyle=\"--\")\n",
    "    plt.title(title)\n",
    "    plt.ylim(y_min + rate_delta*delta, max(y) + delta)\n",
    "    plt.xticks(x)\n",
    "    plt.xlabel(xlabel)\n",
    "    plt.ylabel(\"Log-likelihood\")\n",
    "    plt.show()\n",
    "\n",
    "def plot_weights_bias(weights, biases, L, epoch=None, s=1.5, cmap=\"bwr\", vmin=-4, vmax=4):\n",
    "    rows = 2\n",
    "    cols = int(np.ceil(L/2))\n",
    "\n",
    "    fig, axes = plt.subplots(rows, cols + 1, figsize=(s*(1+cols), s*rows))\n",
    "    plt.subplots_adjust(hspace=0.3, wspace=0.3)\n",
    "    \n",
    "    if epoch is not None:\n",
    "        fig.suptitle(f\"Epoch {epoch}\", y=1.05)\n",
    "    \n",
    "    k=1\n",
    "    for i in range(rows):\n",
    "        for j in range(cols):\n",
    "            if rows == 1:\n",
    "                ax = axes[j+1]\n",
    "            else:\n",
    "                ax = axes[i,j+1]\n",
    "            if k <= L:\n",
    "                ax.imshow(weights[:,k-1].reshape((28,28)), cmap=cmap, vmin=vmin, vmax=vmax)\n",
    "                ax.set_xticks([])\n",
    "                ax.set_yticks([])\n",
    "                ax.set_title(f\"hidden {k}\")\n",
    "            else:\n",
    "                fig.delaxes(ax)\n",
    "            k += 1\n",
    "            \n",
    "        if i > 0: \n",
    "            fig.delaxes(axes[i,0])\n",
    "\n",
    "    if rows == 1:\n",
    "        ax = axes[0]\n",
    "    else:\n",
    "        ax = axes[0,0]\n",
    "    im=ax.imshow(biases.reshape((28,28)), cmap=\"bwr\", vmin=vmin,vmax=vmax)\n",
    "    ax.set_xticks([])\n",
    "    ax.set_yticks([])\n",
    "    ax.set_title('bias')\n",
    "\n",
    "    cbar_ax = fig.add_axes([0.14, 0.15, 0.024, 0.33])\n",
    "    cbar = fig.colorbar(im, cax=cbar_ax)\n",
    "    cbar.ax.tick_params(labelsize=12)\n",
    "\n",
    "    plt.show()\n",
    "    plt.close()\n",
    "\n",
    "def animate_weights_bias_evolution(weights_history, biases_history, L, interval=200, \n",
    "                                   s=1.5, cmap=\"bwr\", vmin=-4, vmax=4):\n",
    "    rows = 2\n",
    "    cols = int(np.ceil(L / 2))\n",
    "    epochs = len(weights_history)\n",
    "    \n",
    "    fig, axes = plt.subplots(rows, cols + 1, figsize=(s*(1+cols), s*rows+.5))\n",
    "    plt.subplots_adjust(hspace=0.05, wspace=0.3, top=0.85)\n",
    "    \n",
    "    title = fig.suptitle(\"Epoch 0\", fontsize=14, y=0.97)\n",
    "\n",
    "    images = []\n",
    "    k = 1\n",
    "\n",
    "    for i in range(rows):\n",
    "        for j in range(cols):\n",
    "            if rows == 1:\n",
    "                ax = axes[j+1]\n",
    "            else:\n",
    "                ax = axes[i,j+1]\n",
    "            \n",
    "            if k <= L:\n",
    "                img = ax.imshow(np.zeros((28,28)), cmap=cmap, vmin=vmin, vmax=vmax)\n",
    "                images.append(img)\n",
    "                ax.set_xticks([])\n",
    "                ax.set_yticks([])\n",
    "                ax.set_title(f\"hidden {k}\")\n",
    "            else:\n",
    "                fig.delaxes(ax)\n",
    "            k += 1\n",
    "\n",
    "        if i > 0:\n",
    "            fig.delaxes(axes[i,0])\n",
    "\n",
    "    if rows == 1:\n",
    "        ax = axes[0]\n",
    "    else:\n",
    "        ax = axes[0,0]\n",
    "    \n",
    "    im = ax.imshow(np.zeros((28,28)), cmap=cmap, vmin=vmin, vmax=vmax)\n",
    "    ax.set_xticks([])\n",
    "    ax.set_yticks([])\n",
    "    ax.set_title(\"bias\")\n",
    "\n",
    "    cbar_ax = fig.add_axes([0.14, 0.15, 0.024, 0.33])\n",
    "    cbar = fig.colorbar(im, cax=cbar_ax)\n",
    "    cbar.ax.tick_params(labelsize=12)\n",
    "\n",
    "    def update(epoch):\n",
    "        title.set_text(f\"Epoch {epoch}\")\n",
    "        biases = biases_history[epoch]\n",
    "        weights = weights_history[epoch]\n",
    "        \n",
    "        im.set_data(biases.reshape((28,28)))\n",
    "\n",
    "        for k in range(L):\n",
    "            images[k].set_data(weights[:,k].reshape((28,28)))\n",
    "\n",
    "        return [im] + images\n",
    "\n",
    "    ani = FuncAnimation(fig, update, frames=epochs, interval=interval, blit=False)\n",
    "    plt.close(fig)\n",
    "    \n",
    "    return HTML(ani.to_jshtml())"
   ]
  },
  {
   "cell_type": "code",
   "execution_count": 6,
   "id": "a4c0dcae",
   "metadata": {},
   "outputs": [],
   "source": [
    "# all handwritten numbers from 0 to 9\n",
    "X, Y = fetch_openml(\"mnist_784\", version=1, return_X_y=True, as_frame=False)\n",
    "\n",
    "# numbers to keep\n",
    "list_numbers = [str(i) for i in range(10)][:3]\n",
    "index_to_keep = np.isin(Y, list_numbers)\n",
    "X_keep = X[index_to_keep]\n",
    "Y_keep = Y[index_to_keep]"
   ]
  },
  {
   "cell_type": "markdown",
   "id": "e2a75a42",
   "metadata": {},
   "source": [
    "# 1) INITIALIZATION OF BIASES"
   ]
  },
  {
   "cell_type": "markdown",
   "id": "8c6bc775",
   "metadata": {},
   "source": [
    "**Restricted Boltzmann Machines** (RBM) are a powerful kind of generative models designed to accomplish training processes relatively fast. In RBMs, a set of binary visible units $i$ of state $v_i$ is symmetrically connected to a set of binary hidden units $j$ of state $h_j$; the continuos weight $w_{ij}$ quantifies the strength between units $i$ and $j$. In the training process, a cyclic Gibbs sampling is performed setting the visible units given the hidden ones and vice versa, according to the following probabilities:\n",
    "\n",
    "$$\n",
    "p(h_j=1\\ |\\ \\mathbf{v}) = \\sigma(b_j + \\sum_iv_iw_{ij})\\ \\ \\ \\ \\ \\ \\ \\ \\ \\ \\ (1a)\n",
    "$$\n",
    "$$\n",
    "p(v_i=1\\ |\\ \\mathbf{h}) = \\sigma(a_i + \\sum_jh_jw_{ij})\\ \\ \\ \\ \\ \\ \\ \\ \\ \\ \\ (1b)\n",
    "$$\n",
    "\n",
    "where $\\sigma(x)=1/(1+e^{-x})$ is the logistic sigmoid function, $a_i$ is the bias of the $i$-th visible unit and $b_j$ is the bias of the $j$-th hidden unit; they act shifting the sigmoid function $\\sigma(x)$. The absence of links among units of the same type simplifies the training process. Moreover, the number of iterations of $(1a)$ and $(1b)$ can be setted to $1$ if real data is used to fix $\\mathbf{v}$ in the first place.\n",
    "\n",
    "Concerning the training process of RBM, $\\mathbf{v}$ is setted using real data. Weights $w_{ij}$ are initialized sampling values from a Gaussian distribution of mean $0$ and standard deviation $0.01$. Biases $b_j$ of hidden units are initialized to $0$, although using $-4$ encourages sparsity in the hidden layer, which can be useful for analysis of units activation.\n",
    "\n",
    "Thus $\\mathbf{h}$ is evaluated by $(1a)$ before passed to $(1b)$ in order to compute back $\\mathbf{v}$. In such evaluation it is convenient to set $a_i$ to be $\\log[p_i/(1-p_i)]$; fixed the $i$-th visible unit, $p_i$ is defined as the number of times such unit is on over the whole training array set, normalized over the size of the set. Referring to $(1b)$, the choice of shifting the sigmoid $\\sigma(x)$ by the function $a_i=\\log[p_i/(1-p_i)]$ of the average $p_i$ ensures that the units can activate properly, even given initial weights $w_{ij}$ close to $0$.\n",
    "\n",
    "The initialization of biases $a_i$, firstly proposed by Hinton, makes hidden units able to activate and differentiate better their activation based on data, avoiding the risk of getting stuck on values near to $0$."
   ]
  },
  {
   "cell_type": "markdown",
   "id": "b90ac02d",
   "metadata": {},
   "source": [
    "# 2) LOG-LIKELIHOOD\n",
    "## 2.1) Does the Log-Likelihood grow?"
   ]
  },
  {
   "cell_type": "code",
   "execution_count": 10,
   "id": "0a6067f4",
   "metadata": {},
   "outputs": [],
   "source": [
    "N = 5\n",
    "n_last_likelihoods = 6\n",
    "steps = 6"
   ]
  },
  {
   "cell_type": "code",
   "execution_count": 43,
   "id": "e4c81eb7",
   "metadata": {},
   "outputs": [
    {
     "name": "stdout",
     "output_type": "stream",
     "text": [
      "Run 1 (of 5):\n",
      "Epoch: 62 / 150\r"
     ]
    },
    {
     "ename": "KeyboardInterrupt",
     "evalue": "",
     "output_type": "error",
     "traceback": [
      "\u001b[0;31m---------------------------------------------------------------------------\u001b[0m",
      "\u001b[0;31mKeyboardInterrupt\u001b[0m                         Traceback (most recent call last)",
      "Cell \u001b[0;32mIn[43], line 5\u001b[0m\n\u001b[1;32m      3\u001b[0m rbm \u001b[38;5;241m=\u001b[39m RBM(X_keep, \u001b[38;5;241m10\u001b[39m)\n\u001b[1;32m      4\u001b[0m rbm\u001b[38;5;241m.\u001b[39minitialize_params()\n\u001b[0;32m----> 5\u001b[0m rbm\u001b[38;5;241m.\u001b[39mtraining(epochs\u001b[38;5;241m=\u001b[39m\u001b[38;5;241m150\u001b[39m, optimizer\u001b[38;5;241m=\u001b[39m\u001b[38;5;124m\"\u001b[39m\u001b[38;5;124mRMSprop\u001b[39m\u001b[38;5;124m\"\u001b[39m, epsilon\u001b[38;5;241m=\u001b[39m\u001b[38;5;241m1e-8\u001b[39m, gamma\u001b[38;5;241m=\u001b[39m\u001b[38;5;241m1e-4\u001b[39m, verbose\u001b[38;5;241m=\u001b[39m\u001b[38;5;28;01mTrue\u001b[39;00m)\n\u001b[1;32m      6\u001b[0m rbm\u001b[38;5;241m.\u001b[39mlikelihood_history(\u001b[38;5;241m12\u001b[39m, n_last_likelihoods, steps)\n\u001b[1;32m      7\u001b[0m save_model(rbm, \u001b[38;5;124mf\u001b[39m\u001b[38;5;124m\"\u001b[39m\u001b[38;5;124mDATA/10L_150e_RMS_same_model_\u001b[39m\u001b[38;5;132;01m{\u001b[39;00mn\u001b[38;5;241m+\u001b[39m\u001b[38;5;241m1\u001b[39m\u001b[38;5;132;01m}\u001b[39;00m\u001b[38;5;124m\"\u001b[39m)\n",
      "Cell \u001b[0;32mIn[4], line 136\u001b[0m, in \u001b[0;36mRBM.training\u001b[0;34m(self, optimizer, epochs, batches, batch_i, batch_f, lr, epsilon, cd_steps, gamma, verbose)\u001b[0m\n\u001b[1;32m    133\u001b[0m hf \u001b[38;5;241m=\u001b[39m h\u001b[38;5;241m.\u001b[39mcopy()\n\u001b[1;32m    134\u001b[0m \u001b[38;5;28;01mfor\u001b[39;00m _ \u001b[38;5;129;01min\u001b[39;00m \u001b[38;5;28mrange\u001b[39m(cd_steps):\n\u001b[1;32m    135\u001b[0m     \u001b[38;5;66;03m# negative CD phase\u001b[39;00m\n\u001b[0;32m--> 136\u001b[0m     vf \u001b[38;5;241m=\u001b[39m \u001b[38;5;28mself\u001b[39m\u001b[38;5;241m.\u001b[39mcontrastive_divergence(hf, \u001b[38;5;28mself\u001b[39m\u001b[38;5;241m.\u001b[39mparams[\u001b[38;5;124m\"\u001b[39m\u001b[38;5;124mw\u001b[39m\u001b[38;5;124m\"\u001b[39m]\u001b[38;5;241m.\u001b[39mT, \u001b[38;5;28mself\u001b[39m\u001b[38;5;241m.\u001b[39mparams[\u001b[38;5;124m\"\u001b[39m\u001b[38;5;124ma\u001b[39m\u001b[38;5;124m\"\u001b[39m])\n\u001b[1;32m    137\u001b[0m     \u001b[38;5;66;03m# positive CD phase\u001b[39;00m\n\u001b[1;32m    138\u001b[0m     hf \u001b[38;5;241m=\u001b[39m \u001b[38;5;28mself\u001b[39m\u001b[38;5;241m.\u001b[39mcontrastive_divergence(vf, \u001b[38;5;28mself\u001b[39m\u001b[38;5;241m.\u001b[39mparams[\u001b[38;5;124m\"\u001b[39m\u001b[38;5;124mw\u001b[39m\u001b[38;5;124m\"\u001b[39m], \u001b[38;5;28mself\u001b[39m\u001b[38;5;241m.\u001b[39mparams[\u001b[38;5;124m\"\u001b[39m\u001b[38;5;124mb\u001b[39m\u001b[38;5;124m\"\u001b[39m], POTTS\u001b[38;5;241m=\u001b[39m\u001b[38;5;28mself\u001b[39m\u001b[38;5;241m.\u001b[39mpotts)\n",
      "Cell \u001b[0;32mIn[4], line 53\u001b[0m, in \u001b[0;36mRBM.contrastive_divergence\u001b[0;34m(self, vector_input, weights, biases, POTTS)\u001b[0m\n\u001b[1;32m     52\u001b[0m \u001b[38;5;28;01mdef\u001b[39;00m \u001b[38;5;21mcontrastive_divergence\u001b[39m(\u001b[38;5;28mself\u001b[39m, vector_input, weights, biases, POTTS\u001b[38;5;241m=\u001b[39m\u001b[38;5;28;01mFalse\u001b[39;00m):\n\u001b[0;32m---> 53\u001b[0m     H \u001b[38;5;241m=\u001b[39m np\u001b[38;5;241m.\u001b[39mclip( np\u001b[38;5;241m.\u001b[39mdot(vector_input, weights) \u001b[38;5;241m+\u001b[39m biases, \u001b[38;5;241m-\u001b[39m\u001b[38;5;241m300\u001b[39m, \u001b[38;5;241m300\u001b[39m )\n\u001b[1;32m     54\u001b[0m     a \u001b[38;5;241m=\u001b[39m np\u001b[38;5;241m.\u001b[39mexp( (\u001b[38;5;28mself\u001b[39m\u001b[38;5;241m.\u001b[39mx_max \u001b[38;5;241m-\u001b[39m \u001b[38;5;28mself\u001b[39m\u001b[38;5;241m.\u001b[39mx_min) \u001b[38;5;241m*\u001b[39m H )\n\u001b[1;32m     56\u001b[0m     output_size \u001b[38;5;241m=\u001b[39m H\u001b[38;5;241m.\u001b[39mshape\n",
      "File \u001b[0;32m~/anaconda3/lib/python3.12/site-packages/numpy/core/fromnumeric.py:2169\u001b[0m, in \u001b[0;36mclip\u001b[0;34m(a, a_min, a_max, out, **kwargs)\u001b[0m\n\u001b[1;32m   2100\u001b[0m \u001b[38;5;129m@array_function_dispatch\u001b[39m(_clip_dispatcher)\n\u001b[1;32m   2101\u001b[0m \u001b[38;5;28;01mdef\u001b[39;00m \u001b[38;5;21mclip\u001b[39m(a, a_min, a_max, out\u001b[38;5;241m=\u001b[39m\u001b[38;5;28;01mNone\u001b[39;00m, \u001b[38;5;241m*\u001b[39m\u001b[38;5;241m*\u001b[39mkwargs):\n\u001b[1;32m   2102\u001b[0m \u001b[38;5;250m    \u001b[39m\u001b[38;5;124;03m\"\"\"\u001b[39;00m\n\u001b[1;32m   2103\u001b[0m \u001b[38;5;124;03m    Clip (limit) the values in an array.\u001b[39;00m\n\u001b[1;32m   2104\u001b[0m \n\u001b[0;32m   (...)\u001b[0m\n\u001b[1;32m   2167\u001b[0m \n\u001b[1;32m   2168\u001b[0m \u001b[38;5;124;03m    \"\"\"\u001b[39;00m\n\u001b[0;32m-> 2169\u001b[0m     \u001b[38;5;28;01mreturn\u001b[39;00m _wrapfunc(a, \u001b[38;5;124m'\u001b[39m\u001b[38;5;124mclip\u001b[39m\u001b[38;5;124m'\u001b[39m, a_min, a_max, out\u001b[38;5;241m=\u001b[39mout, \u001b[38;5;241m*\u001b[39m\u001b[38;5;241m*\u001b[39mkwargs)\n",
      "File \u001b[0;32m~/anaconda3/lib/python3.12/site-packages/numpy/core/fromnumeric.py:59\u001b[0m, in \u001b[0;36m_wrapfunc\u001b[0;34m(obj, method, *args, **kwds)\u001b[0m\n\u001b[1;32m     56\u001b[0m     \u001b[38;5;28;01mreturn\u001b[39;00m _wrapit(obj, method, \u001b[38;5;241m*\u001b[39margs, \u001b[38;5;241m*\u001b[39m\u001b[38;5;241m*\u001b[39mkwds)\n\u001b[1;32m     58\u001b[0m \u001b[38;5;28;01mtry\u001b[39;00m:\n\u001b[0;32m---> 59\u001b[0m     \u001b[38;5;28;01mreturn\u001b[39;00m bound(\u001b[38;5;241m*\u001b[39margs, \u001b[38;5;241m*\u001b[39m\u001b[38;5;241m*\u001b[39mkwds)\n\u001b[1;32m     60\u001b[0m \u001b[38;5;28;01mexcept\u001b[39;00m \u001b[38;5;167;01mTypeError\u001b[39;00m:\n\u001b[1;32m     61\u001b[0m     \u001b[38;5;66;03m# A TypeError occurs if the object does have such a method in its\u001b[39;00m\n\u001b[1;32m     62\u001b[0m     \u001b[38;5;66;03m# class, but its signature is not identical to that of NumPy's. This\u001b[39;00m\n\u001b[0;32m   (...)\u001b[0m\n\u001b[1;32m     66\u001b[0m     \u001b[38;5;66;03m# Call _wrapit from within the except clause to ensure a potential\u001b[39;00m\n\u001b[1;32m     67\u001b[0m     \u001b[38;5;66;03m# exception has a traceback chain.\u001b[39;00m\n\u001b[1;32m     68\u001b[0m     \u001b[38;5;28;01mreturn\u001b[39;00m _wrapit(obj, method, \u001b[38;5;241m*\u001b[39margs, \u001b[38;5;241m*\u001b[39m\u001b[38;5;241m*\u001b[39mkwds)\n",
      "File \u001b[0;32m~/anaconda3/lib/python3.12/site-packages/numpy/core/_methods.py:99\u001b[0m, in \u001b[0;36m_clip\u001b[0;34m(a, min, max, out, **kwargs)\u001b[0m\n\u001b[1;32m     97\u001b[0m     \u001b[38;5;28;01mreturn\u001b[39;00m um\u001b[38;5;241m.\u001b[39mmaximum(a, \u001b[38;5;28mmin\u001b[39m, out\u001b[38;5;241m=\u001b[39mout, \u001b[38;5;241m*\u001b[39m\u001b[38;5;241m*\u001b[39mkwargs)\n\u001b[1;32m     98\u001b[0m \u001b[38;5;28;01melse\u001b[39;00m:\n\u001b[0;32m---> 99\u001b[0m     \u001b[38;5;28;01mreturn\u001b[39;00m um\u001b[38;5;241m.\u001b[39mclip(a, \u001b[38;5;28mmin\u001b[39m, \u001b[38;5;28mmax\u001b[39m, out\u001b[38;5;241m=\u001b[39mout, \u001b[38;5;241m*\u001b[39m\u001b[38;5;241m*\u001b[39mkwargs)\n",
      "\u001b[0;31mKeyboardInterrupt\u001b[0m: "
     ]
    }
   ],
   "source": [
    "for n in range(N):\n",
    "    print(f\"Run {n+1} (of {N}):\")\n",
    "    rbm = RBM(X_keep, 10)\n",
    "    rbm.initialize_params()\n",
    "    rbm.training(epochs=150, optimizer=\"RMSprop\", epsilon=1e-8, gamma=1e-4, verbose=True)\n",
    "    rbm.likelihood_history(12, n_last_likelihoods, steps)\n",
    "    save_model(rbm, f\"DATA/10L_150e_RMS_same_model_{n+1}\")"
   ]
  },
  {
   "cell_type": "code",
   "execution_count": null,
   "id": "252cfc71",
   "metadata": {},
   "outputs": [],
   "source": [
    "list_models = [load_model(f\"DATA/10L_150e_RMS_same_model_{n+1}\") for n in range(N)]\n",
    "list_e = list_models[0].log_likelihood.esit_ix\n",
    "list_l = [model.log_likelihood.esit for model in list_models]\n",
    "\n",
    "labels = [f\"Run n°{i+1}\" for i in range(len(list_models))]\n",
    "cmap = cm.RdPu\n",
    "colors = [cmap(i) for i in np.linspace(0.2,0.8,len(list_models))]\n",
    "\n",
    "plot_likelihood_evolutions(list_e, list_l, list_labels=labels, title=\"Different runs for the same hyperparameters\")"
   ]
  },
  {
   "cell_type": "markdown",
   "id": "69557ab9",
   "metadata": {},
   "source": [
    "The figure shows the evolution of the log-likelihood during five training attempts for the same set of hyperparameters. In all five runs, though with some stochasticity, the log-likelihood grows during training confirming that the RBM is learning. After around 100 epochs we notice that the learning phase of all the different runs tends to stabilize."
   ]
  },
  {
   "cell_type": "code",
   "execution_count": null,
   "id": "fda8d9a6",
   "metadata": {},
   "outputs": [],
   "source": [
    "list_means = []\n",
    "list_std = []\n",
    "for likelihoods in list_l:\n",
    "    last_epoch_l = np.array(likelihoods[-n_last_likelihoods:])\n",
    "    list_means.append(last_epoch_l.mean())\n",
    "    list_std.append(last_epoch_l.std())\n",
    "\n",
    "color = \"#4fabbc\"\n",
    "plot_likelihood_means(np.arange(1,len(list_means)+1), list_means, yerr=list_std, title=\"Mean and std for different runs\", xlabel=\"Run\")"
   ]
  },
  {
   "cell_type": "markdown",
   "id": "06d0deab",
   "metadata": {},
   "source": [
    "The image shows the final log-likelihoods of the five runs alongside their standard deviation. The points are the mean of the log-likelihood evaluated in the last epochs in the training phase."
   ]
  },
  {
   "cell_type": "markdown",
   "id": "07de58b9",
   "metadata": {},
   "source": [
    "## 2.2) Does the Log-Likelihood depend on the number of CD steps?"
   ]
  },
  {
   "cell_type": "code",
   "execution_count": null,
   "id": "cca32e2c",
   "metadata": {},
   "outputs": [],
   "source": [
    "n_last_likelihoods = 6\n",
    "steps = 6"
   ]
  },
  {
   "cell_type": "code",
   "execution_count": null,
   "id": "3d7714b8",
   "metadata": {},
   "outputs": [],
   "source": [
    "_ = '''for n in range(1,4):\n",
    "    print(f\"CD_steps: {n}\")\n",
    "    rbm = RBM(X_keep, 10, spins=False, potts=False)\n",
    "    rbm.initialize_params()\n",
    "    rbm.training(epochs=150, optimizer=\"RMSprop\", cd_steps=n, verbose=True)\n",
    "    rbm.likelihood_history(12, n_last_likelihoods, steps)\n",
    "    save_model(rbm, f\"DATA/10L_150e_RMS_cd{n}\")'''"
   ]
  },
  {
   "cell_type": "code",
   "execution_count": null,
   "id": "7ef21cbd",
   "metadata": {},
   "outputs": [],
   "source": [
    "list_models = [load_model(f\"DATA/3L_150e_RMS_cd{n}\") for n in range(1,4)]\n",
    "list_e = list_models[0].log_likelihood.esit_ix\n",
    "list_l = [model.log_likelihood.esit for model in list_models]\n",
    "\n",
    "labels = [f\"CD steps: {i+1}\" for i in range(len(list_l))]\n",
    "cmap = cm.RdPu\n",
    "colors = [cmap(i) for i in np.linspace(0.2,0.8,len(list_models))]\n",
    "\n",
    "plot_likelihood_evolutions(list_e, list_l, list_labels=labels, title=\"Different contrastive divergent steps\")"
   ]
  },
  {
   "cell_type": "markdown",
   "id": "45da0f6f",
   "metadata": {},
   "source": [
    "The figure illustrates the growth of the log-likelihood during the training phase for different numbers of Contrastive Divergence steps, from 1 to 3."
   ]
  },
  {
   "cell_type": "code",
   "execution_count": null,
   "id": "d6db6312",
   "metadata": {},
   "outputs": [],
   "source": [
    "list_means = []\n",
    "list_std = []\n",
    "for likelihoods in list_l:\n",
    "    last_epoch_l = np.array(likelihoods[-n_last_likelihoods:])\n",
    "    list_means.append(last_epoch_l.mean())\n",
    "    list_std.append(last_epoch_l.std())\n",
    "\n",
    "plot_likelihood_means(range(1,4), list_means, yerr=list_std, xlabel=\"Number of CD steps\", title=\"Means and std for different CD steps\")"
   ]
  },
  {
   "cell_type": "markdown",
   "id": "4a42e7eb",
   "metadata": {},
   "source": [
    "In this graph we can see that the number of CD steps does not affect the final log-likelihood, meaning that the values are compatible."
   ]
  },
  {
   "cell_type": "markdown",
   "id": "4a2ddf93",
   "metadata": {},
   "source": [
    "## 2.3) Compare the Log-Likelihood for different L"
   ]
  },
  {
   "cell_type": "code",
   "execution_count": null,
   "id": "da8df091",
   "metadata": {},
   "outputs": [],
   "source": [
    "list_L = list(range(3,14))\n",
    "n_last_likelihoods = 6\n",
    "steps = 6"
   ]
  },
  {
   "cell_type": "code",
   "execution_count": null,
   "id": "f782fbc4",
   "metadata": {},
   "outputs": [],
   "source": [
    "_ = '''for L in list_L:\n",
    "    np.random.seed(42)\n",
    "    print(f\"L: {L} (of 13)\")\n",
    "    \n",
    "    rbm = RBM(X_keep, L, spins=False, potts=False)\n",
    "    rbm.initialize_params()\n",
    "    rbm.training(epochs=150, optimizer=\"RMSprop\", verbose=True)\n",
    "    rbm.likelihood_history(12, n_last_likelihoods, steps)\n",
    "    save_model(rbm, f\"DATA/{L}L_150e_RMS_comparisonL\")'''"
   ]
  },
  {
   "cell_type": "code",
   "execution_count": null,
   "id": "e5ac0f0a",
   "metadata": {},
   "outputs": [],
   "source": [
    "list_models = [load_model(f\"DATA/{L}L_150e_RMS_comparisonL\") for L in list_L]\n",
    "list_e = list_models[0].log_likelihood.esit_ix\n",
    "list_l = [model.log_likelihood.esit for model in list_models]\n",
    "labels = [f\"L = {L}\" for L in list_L]\n",
    "\n",
    "list_means = []\n",
    "list_std = []\n",
    "for likelihoods in list_l:\n",
    "    last_epoch_l = np.array(likelihoods[-n_last_likelihoods:])\n",
    "    list_means.append(last_epoch_l.mean())\n",
    "    list_std.append(last_epoch_l.std())\n",
    "\n",
    "plot_likelihood_means(list_L, list_means, yerr=list_std, xlabel=\"Number of hidden units\", title=\"Final log-likelihood for different L\")"
   ]
  },
  {
   "cell_type": "markdown",
   "id": "de467fea",
   "metadata": {},
   "source": [
    "The figure presents the value of the final log-likelihood for different values of the hidden units L of the RBM. L = 10 seems to be the number that performs best. Due to stochasticity, in order to minimize the number of variable parameters, we chose the same initial seed for each L."
   ]
  },
  {
   "cell_type": "markdown",
   "id": "53c3cd7d",
   "metadata": {},
   "source": [
    "# 3) HYPERPARAMETERS\n",
    "\n",
    "## 3.1) Learning Rate"
   ]
  },
  {
   "cell_type": "code",
   "execution_count": null,
   "id": "14f283c1",
   "metadata": {},
   "outputs": [],
   "source": [
    "list_lr = list(range(0,-5,-1))\n",
    "n_last_likelihoods = 6\n",
    "steps = 6"
   ]
  },
  {
   "cell_type": "code",
   "execution_count": null,
   "id": "88eb5a1c",
   "metadata": {},
   "outputs": [],
   "source": [
    "_ = '''for i,n in enumerate(list_lr):\n",
    "    print(f\"Learning rate n°{i+1} (of {len(list_lr)})\")\n",
    "    rbm = RBM(X_keep, 10, spins=False, potts=False)\n",
    "    rbm.initialize_params()\n",
    "    rbm.training(epochs=150, optimizer=\"RMSprop\", lr=10**n, verbose=True)\n",
    "    rbm.likelihood_history(12, n_last_likelihoods, steps)\n",
    "    save_model(rbm, f\"DATA/10L_150e_RMS_lr{i+1}\")'''"
   ]
  },
  {
   "cell_type": "code",
   "execution_count": null,
   "id": "bd9d5eb9",
   "metadata": {},
   "outputs": [],
   "source": [
    "list_models = [load_model(f\"DATA/10L_150e_RMS_lr{i+1}\") for i in range(len(list_lr))]\n",
    "list_e = list_models[0].log_likelihood.esit_ix\n",
    "list_l = [model.log_likelihood.esit for model in list_models]\n",
    "\n",
    "labels = [f\"lr = $10^{{{n}}}$\" if n!=0 else \"lr = 1\" for n in list_lr]\n",
    "cmap = cm.RdPu\n",
    "colors = [cmap(i) for i in np.linspace(0.2, 0.8, len(list_models))]\n",
    "\n",
    "plot_likelihood_evolutions(list_e, list_l, list_labels=labels, title=\"Models with different learning rates\")"
   ]
  },
  {
   "cell_type": "markdown",
   "id": "d9ea5cd2",
   "metadata": {},
   "source": [
    "The figure illustrates the trend of the log-likelihood during training for different values of the learning rate in the gradient ascent step, using RMSprop as optimizer. For lower learning rate values the best ascending trend is observed."
   ]
  },
  {
   "cell_type": "code",
   "execution_count": null,
   "id": "1da3bf33",
   "metadata": {},
   "outputs": [],
   "source": [
    "list_means = []\n",
    "list_std = []\n",
    "for likelihoods in list_l:\n",
    "    last_epoch_l = np.array(likelihoods[-n_last_likelihoods:])\n",
    "    list_means.append(last_epoch_l.mean())\n",
    "    list_std.append(last_epoch_l.std())\n",
    "\n",
    "x_labels = [f\"$10^{{{n}}}$\" if n!=0 else \"$1$\" for n in list_lr]\n",
    "plot_likelihood_means(x_labels, list_means, yerr=list_std, xlabel=\"Learning rate\", rate_delta=0.2, title=\"Final log-likelihoods for different learning rates\")"
   ]
  },
  {
   "cell_type": "markdown",
   "id": "17c04310",
   "metadata": {},
   "source": [
    "The figure shows the final log-likelihood for different values of the learning rate. For an intermediate learning rate the log-likelihood is maximized with the lowest standard deviation."
   ]
  },
  {
   "cell_type": "markdown",
   "id": "dd1b5dd9",
   "metadata": {},
   "source": [
    "## 3.2) Epsilon"
   ]
  },
  {
   "cell_type": "code",
   "execution_count": null,
   "id": "b9cb9937",
   "metadata": {},
   "outputs": [],
   "source": [
    "list_epsilon = list(range(-9,-3))\n",
    "n_last_likelihoods = 6\n",
    "steps = 6"
   ]
  },
  {
   "cell_type": "code",
   "execution_count": null,
   "id": "1a242bc0",
   "metadata": {},
   "outputs": [],
   "source": [
    "_ = '''for i,n in enumerate(list_epsilon):\n",
    "    print(f\"Epsilon n° {i+1} (of {len(list_epsilon)}):\")\n",
    "    rbm = RBM(X_keep, 6, spins=False, potts=False)\n",
    "    rbm.initialize_params()\n",
    "    rbm.training(epochs=150, optimizer=\"RMSprop\", epsilon=10**n, verbose=True)\n",
    "    rbm.likelihood_history(12, n_last_likelihoods, steps)\n",
    "    save_model(rbm, f\"DATA/6L_150e_RMS_epsilon{i+1}\")'''"
   ]
  },
  {
   "cell_type": "code",
   "execution_count": null,
   "id": "ef89271b",
   "metadata": {},
   "outputs": [],
   "source": [
    "list_models = [load_model(f\"DATA/6L_150e_RMS_epsilon{i+1}\") for i in range(len(list_epsilon))]\n",
    "list_e = list_models[0].log_likelihood.esit_ix\n",
    "list_l = [model.log_likelihood.esit for model in list_models]\n",
    "\n",
    "labels = [rf\"$\\epsilon = 10^{{{n}}}$\" for n in list_epsilon]\n",
    "cmap = cm.RdPu\n",
    "colors = [cmap(i) for i in np.linspace(0.2, 0.8, len(list_models))]\n",
    "\n",
    "plot_likelihood_evolutions(list_e, list_l, list_labels=labels, title=r\"Models with different value of $\\epsilon$\")"
   ]
  },
  {
   "cell_type": "markdown",
   "id": "e28ee1f8",
   "metadata": {},
   "source": [
    "The figure shows the evolution of the log-likelihood during training for different values of the epsilon parameter in the RMSprop gradient descent type. Apart from stochasticity the models tend to follow the same trend."
   ]
  },
  {
   "cell_type": "code",
   "execution_count": null,
   "id": "dcc8fff4",
   "metadata": {},
   "outputs": [],
   "source": [
    "list_means = []\n",
    "list_std = []\n",
    "for likelihoods in list_l:\n",
    "    last_epoch_l = np.array(likelihoods[-n_last_likelihoods:])\n",
    "    list_means.append(last_epoch_l.mean())\n",
    "    list_std.append(last_epoch_l.std())\n",
    "\n",
    "x_labels = [rf\"$\\epsilon = 10^{{{n}}}$\" for n in list_epsilon]\n",
    "plot_likelihood_means(x_labels, list_means, yerr=list_std, xlabel=\"Epsilon\", title=r\"Final log-likelihoods for different values of $\\epsilon$\")"
   ]
  },
  {
   "cell_type": "markdown",
   "id": "fbfa3a78",
   "metadata": {},
   "source": [
    "The most stable log-likelihoods are obtained for higher values of epsilon, unlike the lower ones. The values are spread in an interval around $-168$."
   ]
  },
  {
   "cell_type": "markdown",
   "id": "b1adc129",
   "metadata": {},
   "source": [
    "## 3.3) Optimizers"
   ]
  },
  {
   "cell_type": "code",
   "execution_count": null,
   "id": "63916943",
   "metadata": {},
   "outputs": [],
   "source": [
    "L = 10\n",
    "epochs = 150\n",
    "n_likelihoods = 12\n",
    "n_last_likelihoods = 6\n",
    "steps = 6\n",
    "optimizers = [\"RMSprop\", \"SGD\"]\n",
    "lr = 0.05\n",
    "epsilon = 1e-8"
   ]
  },
  {
   "cell_type": "code",
   "execution_count": null,
   "id": "48a60e10",
   "metadata": {},
   "outputs": [],
   "source": [
    "_ = '''for optimizer in optimizers:\n",
    "    print(f\"Optimizer: {optimizer}\")\n",
    "    rbm = RBM(X_keep, L)\n",
    "    rbm.initialize_params()\n",
    "    rbm.training(epochs=epochs, optimizer=optimizer, verbose=True)\n",
    "    rbm.likelihood_history(n_likelihoods, n_last_likelihoods, steps)\n",
    "    save_model(rbm, f\"DATA/{L}L_{epochs}e_{optimizer}_optimizer\")'''"
   ]
  },
  {
   "cell_type": "code",
   "execution_count": null,
   "id": "6d877135",
   "metadata": {},
   "outputs": [],
   "source": [
    "list_models = [load_model(f\"DATA/{L}L_{epochs}e_{opt}_optimizer\") for opt in optimizers]\n",
    "list_e = list_models[0].log_likelihood.esit_ix\n",
    "list_l = [model.log_likelihood.esit for model in list_models]\n",
    "\n",
    "cmap = cm.RdPu\n",
    "colors = [cmap(i) for i in np.linspace(0.2, 0.8, len(list_models))]\n",
    "\n",
    "plot_likelihood_evolutions(list_e, list_l, list_labels=optimizers, title=\"Models with different optimizers\")"
   ]
  },
  {
   "cell_type": "markdown",
   "id": "52be696d",
   "metadata": {},
   "source": [
    "In this figure we notice that both of the optimizers perform almost the same."
   ]
  },
  {
   "cell_type": "code",
   "execution_count": null,
   "id": "f4a137bc",
   "metadata": {},
   "outputs": [],
   "source": [
    "list_means = []\n",
    "list_std = []\n",
    "for likelihoods in list_l:\n",
    "    last_epoch_l = np.array(likelihoods[-n_last_likelihoods:])\n",
    "    list_means.append(last_epoch_l.mean())\n",
    "    list_std.append(last_epoch_l.std())\n",
    "\n",
    "plot_likelihood_means(optimizers, list_means, yerr=list_std, xlabel=\"Optimizers\", title=\"Final log-likelihoods for different optimizers\")"
   ]
  },
  {
   "cell_type": "markdown",
   "id": "eb94cfb8",
   "metadata": {},
   "source": [
    "In this graph we can see that the final log-likelihoods are compatible for both optimizers."
   ]
  },
  {
   "cell_type": "markdown",
   "id": "4d0bef33",
   "metadata": {},
   "source": [
    "## 3.4) Gamma"
   ]
  },
  {
   "cell_type": "code",
   "execution_count": null,
   "id": "60358e89",
   "metadata": {},
   "outputs": [],
   "source": [
    "gamma_values = [f\"10**{n}\" if n != 0 else \"0\" for n in range(-5,1)]\n",
    "n_last_likelihoods = 6\n",
    "steps = 6"
   ]
  },
  {
   "cell_type": "code",
   "execution_count": null,
   "id": "a1e6a95f",
   "metadata": {},
   "outputs": [],
   "source": [
    "_ = '''for i,gamma in enumerate(gamma_values):\n",
    "    print(f\"Gamma n° {i+1} (of {len(gamma_values)})\")\n",
    "    rbm = RBM(X_keep, 6)\n",
    "    rbm.initialize_params()\n",
    "    rbm.training(epochs=150, optimizer=\"RMSprop\", gamma=eval(gamma), verbose=True)\n",
    "    rbm.likelihood_history(12, n_last_likelihoods, steps)\n",
    "    save_model(rbm, f\"DATA/6L_150e_RMS_gamma{i+1}\")'''"
   ]
  },
  {
   "cell_type": "code",
   "execution_count": null,
   "id": "3564e706",
   "metadata": {},
   "outputs": [],
   "source": [
    "list_models = [load_model(f\"DATA/6L_150e_RMS_gamma{i+1}\") for i in range(len(gamma_values))]\n",
    "list_e = list_models[0].log_likelihood.esit_ix\n",
    "list_l = [model.log_likelihood.esit for model in list_models]\n",
    "\n",
    "labels = [rf\"$\\gamma$ = {gamma_values[i].replace('**', '^')}\" for i in range(len(list_l))]\n",
    "cmap = cm.RdPu\n",
    "colors = [cmap(i) for i in np.linspace(0.2, 0.8, len(list_models))]\n",
    "\n",
    "plot_likelihood_evolutions(list_e, list_l, list_labels=labels, title=r\"Models with different $\\gamma$ values\")"
   ]
  },
  {
   "cell_type": "markdown",
   "id": "7ae8b1eb",
   "metadata": {},
   "source": [
    "The image illustrates the evolution of the log-likelihood during training for different values of the gamma parameter, involved in the regularization step. Around 20 epochs the trend tends to stabilize."
   ]
  },
  {
   "cell_type": "code",
   "execution_count": null,
   "id": "e81ef1c4",
   "metadata": {},
   "outputs": [],
   "source": [
    "list_means = []\n",
    "list_std = []\n",
    "for likelihoods in list_l:\n",
    "    last_epoch_l = np.array(likelihoods[-n_last_likelihoods:])\n",
    "    list_means.append(last_epoch_l.mean())\n",
    "    list_std.append(last_epoch_l.std())\n",
    "\n",
    "xticks = [rf\"{gamma_values[i].replace('**', '^')}\" for i in range(len(list_l))]\n",
    "plot_likelihood_means(xticks, list_means, yerr=list_std, xlabel=\"Gamma values\", title=r\"Final log-likelihoods for different $\\gamma$\")"
   ]
  },
  {
   "cell_type": "markdown",
   "id": "85ea9294",
   "metadata": {},
   "source": [
    "The $\\gamma$ value that gives the best performance is $10^{-3}$."
   ]
  },
  {
   "cell_type": "markdown",
   "id": "175b1627",
   "metadata": {},
   "source": [
    "## 3.5) POTTS"
   ]
  },
  {
   "cell_type": "code",
   "execution_count": 71,
   "id": "d19a94a5",
   "metadata": {},
   "outputs": [],
   "source": [
    "L = 3\n",
    "epochs = 150\n",
    "n_likelihoods = 12\n",
    "n_last_likelihoods = 6\n",
    "steps = 6\n",
    "lr = 1e-2\n",
    "epsilon = 1e-8\n",
    "gamma = 1e-4\n",
    "optimizers = [\"RMSprop\", \"SGD\"]\n",
    "spins_potts = [(False, False), (True, False), (False, True)]\n",
    "#spins_potts = [(True, False)]"
   ]
  },
  {
   "cell_type": "code",
   "execution_count": null,
   "id": "e217e0e1",
   "metadata": {},
   "outputs": [],
   "source": [
    "for i,optimizer in enumerate(optimizers):\n",
    "    for j,(spins, potts) in enumerate(spins_potts):\n",
    "        print(f\"Optimizer {optimizer}, spins={spins}, potts={potts} ({i*len(optimizers)+j} of {len(optimizers)*len(spins_potts)})\")\n",
    "        rbm = RBM(X_keep, L, spins=spins, potts=potts)\n",
    "        rbm.initialize_params()\n",
    "        rbm.training(epochs=epochs, optimizer=optimizer, verbose=True)\n",
    "        rbm.likelihood_history(n_likelihoods, n_last_likelihoods, steps)\n",
    "        save_model(rbm, f\"DATA/{L}L_{epochs}e_{optimizer}_s{spins}_p{potts}\")"
   ]
  },
  {
   "cell_type": "code",
   "execution_count": 76,
   "id": "2e3f039f",
   "metadata": {},
   "outputs": [
    {
     "data": {
      "image/png": "[encoded data removed]",
      "text/plain": [
       "<Figure size 800x600 with 1 Axes>"
      ]
     },
     "metadata": {},
     "output_type": "display_data"
    }
   ],
   "source": [
    "# RMS\n",
    "list_models = []\n",
    "for (spins, potts) in [(False, False), (False, True)]:\n",
    "    list_models.append(load_model(f\"DATA/{L}L_{epochs}e_RMSprop_s{spins}_p{potts}\"))\n",
    "list_e = list_models[0].log_likelihood.esit_ix\n",
    "list_l = [model.log_likelihood.esit for model in list_models]\n",
    "\n",
    "labels = [\"POTTS=False\", \"POTTS=True\"]\n",
    "cmap = cm.RdPu\n",
    "colors = [cmap(i) for i in np.linspace(0.2, 0.8, len(list_models))]\n",
    "\n",
    "plot_likelihood_evolutions(list_e, list_l, list_labels=labels, title=\"Models without POTTS and with POTTS (RMSprop)\")"
   ]
  },
  {
   "cell_type": "markdown",
   "id": "9d0398df",
   "metadata": {},
   "source": [
    "The graph shows the trend of the log-likelihood during the training phase using RMSprop as optimizer setting the one-hot encoding on (POTTS=True) or off for the hidden units. The model with one-hot encoding does not show any learning trend."
   ]
  },
  {
   "cell_type": "code",
   "execution_count": 78,
   "id": "374cd32e",
   "metadata": {},
   "outputs": [
    {
     "data": {
      "image/png": "[encoded data removed]",
      "text/plain": [
       "<Figure size 800x600 with 1 Axes>"
      ]
     },
     "metadata": {},
     "output_type": "display_data"
    }
   ],
   "source": [
    "list_means = []\n",
    "list_std = []\n",
    "for likelihoods in list_l:\n",
    "    last_epoch_l = np.array(likelihoods[-n_last_likelihoods:])\n",
    "    list_means.append(last_epoch_l.mean())\n",
    "    list_std.append(last_epoch_l.std())\n",
    "\n",
    "plot_likelihood_means(labels, list_means, yerr=list_std, xlabel=\"Different methods\", title=\"Final log-likelihoods for POTTS turned off/on\")"
   ]
  },
  {
   "cell_type": "markdown",
   "id": "f43e66df",
   "metadata": {},
   "source": [
    "As it was shown in the last graph, if POTTS=True the model performs much worse than the other one."
   ]
  },
  {
   "cell_type": "code",
   "execution_count": 88,
   "id": "e8fb4412",
   "metadata": {},
   "outputs": [
    {
     "data": {
      "image/png": "[encoded data removed]",
      "text/plain": [
       "<Figure size 800x600 with 1 Axes>"
      ]
     },
     "metadata": {},
     "output_type": "display_data"
    }
   ],
   "source": [
    "# SGD\n",
    "list_models = []\n",
    "for (spins, potts) in [(False, False)]:#, (False, True)]:\n",
    "    list_models.append(load_model(f\"DATA/{L}L_{epochs}e_SGD_s{spins}_p{potts}\"))\n",
    "list_e = list_models[0].log_likelihood.esit_ix\n",
    "list_l = [model.log_likelihood.esit for model in list_models]\n",
    "\n",
    "labels = [\"POTTS=False\", \"POTTS=True\"]\n",
    "cmap = cm.RdPu\n",
    "colors = [cmap(i) for i in np.linspace(0.2, 0.8, len(list_models))]\n",
    "\n",
    "plot_likelihood_evolutions(list_e, list_l, list_labels=labels, title=\"Models without POTTS and with POTTS (SGD)\")"
   ]
  },
  {
   "cell_type": "markdown",
   "id": "272c2562",
   "metadata": {},
   "source": [
    "The graph shows the trend of the log-likelihood during the training phase using SGD as optimizer setting the one-hot encoding on (POTTS=True) or off for the hidden units. In this case, the model with one-hot encoding is learning even though it always performs worse than the other model."
   ]
  },
  {
   "cell_type": "code",
   "execution_count": null,
   "id": "f9281b44",
   "metadata": {},
   "outputs": [],
   "source": [
    "list_means = []\n",
    "list_std = []\n",
    "for likelihoods in list_l:\n",
    "    last_epoch_l = np.array(likelihoods[-n_last_likelihoods:])\n",
    "    list_means.append(last_epoch_l.mean())\n",
    "    list_std.append(last_epoch_l.std())\n",
    "\n",
    "plot_likelihood_means(labels, list_means, yerr=list_std, xlabel=\"Different methods\", title=\"Final log-likelihoods for POTTS turned off/on\")"
   ]
  },
  {
   "cell_type": "markdown",
   "id": "ef88a5f8",
   "metadata": {},
   "source": [
    "As it was shown in the last graph, if POTTS=True the model performs worse than the other one."
   ]
  },
  {
   "cell_type": "markdown",
   "id": "047135aa",
   "metadata": {},
   "source": [
    "## 3.6) Spins = True"
   ]
  },
  {
   "cell_type": "code",
   "execution_count": 86,
   "id": "4c64ed66",
   "metadata": {},
   "outputs": [
    {
     "ename": "FileNotFoundError",
     "evalue": "[Errno 2] No such file or directory: 'DATA/3L_150e_SGD_sTrue_pFalse.npz'",
     "output_type": "error",
     "traceback": [
      "\u001b[0;31m---------------------------------------------------------------------------\u001b[0m",
      "\u001b[0;31mFileNotFoundError\u001b[0m                         Traceback (most recent call last)",
      "Cell \u001b[0;32mIn[86], line 3\u001b[0m\n\u001b[1;32m      1\u001b[0m list_models \u001b[38;5;241m=\u001b[39m []\n\u001b[1;32m      2\u001b[0m \u001b[38;5;28;01mfor\u001b[39;00m optimizer \u001b[38;5;129;01min\u001b[39;00m optimizers:\n\u001b[0;32m----> 3\u001b[0m     list_models\u001b[38;5;241m.\u001b[39mappend(load_model(\u001b[38;5;124mf\u001b[39m\u001b[38;5;124m\"\u001b[39m\u001b[38;5;124mDATA/\u001b[39m\u001b[38;5;132;01m{\u001b[39;00mL\u001b[38;5;132;01m}\u001b[39;00m\u001b[38;5;124mL_\u001b[39m\u001b[38;5;132;01m{\u001b[39;00mepochs\u001b[38;5;132;01m}\u001b[39;00m\u001b[38;5;124me_\u001b[39m\u001b[38;5;132;01m{\u001b[39;00moptimizer\u001b[38;5;132;01m}\u001b[39;00m\u001b[38;5;124m_sTrue_pFalse\u001b[39m\u001b[38;5;124m\"\u001b[39m))\n\u001b[1;32m      4\u001b[0m list_e \u001b[38;5;241m=\u001b[39m list_models[\u001b[38;5;241m0\u001b[39m]\u001b[38;5;241m.\u001b[39mlog_likelihood\u001b[38;5;241m.\u001b[39mesit_ix\n\u001b[1;32m      5\u001b[0m list_l \u001b[38;5;241m=\u001b[39m [model\u001b[38;5;241m.\u001b[39mlog_likelihood\u001b[38;5;241m.\u001b[39mesit \u001b[38;5;28;01mfor\u001b[39;00m model \u001b[38;5;129;01min\u001b[39;00m list_models]\n",
      "Cell \u001b[0;32mIn[5], line 18\u001b[0m, in \u001b[0;36mload_model\u001b[0;34m(file_path)\u001b[0m\n\u001b[1;32m     17\u001b[0m \u001b[38;5;28;01mdef\u001b[39;00m \u001b[38;5;21mload_model\u001b[39m(file_path):\n\u001b[0;32m---> 18\u001b[0m     data \u001b[38;5;241m=\u001b[39m np\u001b[38;5;241m.\u001b[39mload(\u001b[38;5;124mf\u001b[39m\u001b[38;5;124m\"\u001b[39m\u001b[38;5;132;01m{\u001b[39;00mfile_path\u001b[38;5;132;01m}\u001b[39;00m\u001b[38;5;124m.npz\u001b[39m\u001b[38;5;124m\"\u001b[39m, allow_pickle\u001b[38;5;241m=\u001b[39m\u001b[38;5;28;01mTrue\u001b[39;00m)\n\u001b[1;32m     19\u001b[0m     model \u001b[38;5;241m=\u001b[39m RBM(np\u001b[38;5;241m.\u001b[39marray([[],]), data[\u001b[38;5;124m\"\u001b[39m\u001b[38;5;124mL\u001b[39m\u001b[38;5;124m\"\u001b[39m])\n\u001b[1;32m     20\u001b[0m     model\u001b[38;5;241m.\u001b[39mspins \u001b[38;5;241m=\u001b[39m data[\u001b[38;5;124m\"\u001b[39m\u001b[38;5;124mspins\u001b[39m\u001b[38;5;124m\"\u001b[39m]\n",
      "File \u001b[0;32m~/anaconda3/lib/python3.12/site-packages/numpy/lib/npyio.py:427\u001b[0m, in \u001b[0;36mload\u001b[0;34m(file, mmap_mode, allow_pickle, fix_imports, encoding, max_header_size)\u001b[0m\n\u001b[1;32m    425\u001b[0m     own_fid \u001b[38;5;241m=\u001b[39m \u001b[38;5;28;01mFalse\u001b[39;00m\n\u001b[1;32m    426\u001b[0m \u001b[38;5;28;01melse\u001b[39;00m:\n\u001b[0;32m--> 427\u001b[0m     fid \u001b[38;5;241m=\u001b[39m stack\u001b[38;5;241m.\u001b[39menter_context(\u001b[38;5;28mopen\u001b[39m(os_fspath(file), \u001b[38;5;124m\"\u001b[39m\u001b[38;5;124mrb\u001b[39m\u001b[38;5;124m\"\u001b[39m))\n\u001b[1;32m    428\u001b[0m     own_fid \u001b[38;5;241m=\u001b[39m \u001b[38;5;28;01mTrue\u001b[39;00m\n\u001b[1;32m    430\u001b[0m \u001b[38;5;66;03m# Code to distinguish from NumPy binary files and pickles.\u001b[39;00m\n",
      "\u001b[0;31mFileNotFoundError\u001b[0m: [Errno 2] No such file or directory: 'DATA/3L_150e_SGD_sTrue_pFalse.npz'"
     ]
    }
   ],
   "source": [
    "list_models = []\n",
    "for optimizer in optimizers:\n",
    "    list_models.append(load_model(f\"DATA/{L}L_{epochs}e_{optimizer}_sTrue_pFalse\"))\n",
    "list_e = list_models[0].log_likelihood.esit_ix\n",
    "list_l = [model.log_likelihood.esit for model in list_models]\n",
    "\n",
    "labels = [\"RMSprop\", \"SGD\"]\n",
    "cmap = cm.RdPu\n",
    "colors = [cmap(i) for i in np.linspace(0.2, 0.8, len(list_models))]\n",
    "\n",
    "plot_likelihood_evolutions(list_e, list_l, list_labels=labels, title=\"Models with spins variables for different optimizers\")"
   ]
  },
  {
   "cell_type": "markdown",
   "id": "e8ad5ad6",
   "metadata": {},
   "source": [
    "In here we notice that both the optimizers with spin variables perform way worse than the other cases. Using RMSprop the log-likelihood remains almost the same, but SGD lacks a clear trend."
   ]
  },
  {
   "cell_type": "code",
   "execution_count": 84,
   "id": "6bed277b",
   "metadata": {},
   "outputs": [
    {
     "data": {
      "image/png": "[encoded data removed]",
      "text/plain": [
       "<Figure size 800x600 with 1 Axes>"
      ]
     },
     "metadata": {},
     "output_type": "display_data"
    }
   ],
   "source": [
    "list_means = []\n",
    "list_std = []\n",
    "for likelihoods in list_l:\n",
    "    last_epoch_l = np.array(likelihoods[-n_last_likelihoods:])\n",
    "    list_means.append(last_epoch_l.mean())\n",
    "    list_std.append(last_epoch_l.std())\n",
    "\n",
    "plot_likelihood_means(labels, list_means, yerr=list_std, xlabel=\"Different methods\", title=\"Final log-likelihoods for spins variables\")"
   ]
  },
  {
   "cell_type": "markdown",
   "id": "f8a7f247",
   "metadata": {},
   "source": [
    "Both of the models give a bad performance, but RMSprop reaches higher values."
   ]
  },
  {
   "cell_type": "markdown",
   "id": "037977fd",
   "metadata": {},
   "source": [
    "## 3.7) Different dataset"
   ]
  },
  {
   "cell_type": "code",
   "execution_count": null,
   "id": "d208cab3",
   "metadata": {},
   "outputs": [],
   "source": [
    "n_last_likelihoods = 6\n",
    "steps = 6"
   ]
  },
  {
   "cell_type": "code",
   "execution_count": null,
   "id": "a8ccd860",
   "metadata": {},
   "outputs": [],
   "source": [
    "_ = '''for n in range(3, 10):\n",
    "    index_to_keep = np.isin(Y, [str(n1) for n1 in range(n-2,n+1)])\n",
    "    X_keep = X[index_to_keep]\n",
    "    print(f\"Digits: {[str(n1) for n1 in range(n-2,n+1)]}\")\n",
    "    \n",
    "    rbm = RBM(X_keep, 10, spins=False, potts=False)\n",
    "    rbm.initialize_params()\n",
    "    rbm.training(epochs=150, optimizer=\"RMSprop\", verbose=True)\n",
    "    rbm.likelihood_history(12, n_last_likelihoods, steps)\n",
    "    save_model(rbm, f\"DATA/10L_150e_RMS_{n-2}{n-1}{n}digits\")'''"
   ]
  },
  {
   "cell_type": "code",
   "execution_count": null,
   "id": "4b1f5709",
   "metadata": {},
   "outputs": [],
   "source": [
    "list_models = [load_model(f\"DATA/10L_150e_RMS_comparisonL\")]\n",
    "for n in range(3, 10):\n",
    "    list_models.append(load_model(f\"DATA/10L_150e_RMS_{n-2}{n-1}{n}digits\"))\n",
    "list_e = list_models[0].log_likelihood.esit_ix\n",
    "list_l = [model.log_likelihood.esit for model in list_models]\n",
    "\n",
    "labels = [\"[0, 1, 2]\"] + [str([n1 for n1 in range(n-2,n+1)]) for n in range(3,10)]\n",
    "cmap = cm.RdPu\n",
    "colors = [cmap(i) for i in np.linspace(0.2, 0.8, len(list_models))]\n",
    "\n",
    "plot_likelihood_evolutions(list_e, list_l, list_labels=labels, title = \"Models with different digits\")"
   ]
  },
  {
   "cell_type": "markdown",
   "id": "35e8a859-71b0-465d-9ec5-832e14af1767",
   "metadata": {},
   "source": [
    "This graph shows how models with different digits perform. Indipendenlty on the initialization the models show very similar trends."
   ]
  },
  {
   "cell_type": "code",
   "execution_count": null,
   "id": "091440a7",
   "metadata": {},
   "outputs": [],
   "source": [
    "list_means = []\n",
    "list_std = []\n",
    "for likelihoods in list_l:\n",
    "    last_epoch_l = np.array(likelihoods[-n_last_likelihoods:])\n",
    "    list_means.append(last_epoch_l.mean())\n",
    "    list_std.append(last_epoch_l.std())\n",
    "\n",
    "plot_likelihood_means(labels, list_means, yerr=list_std, xlabel=\"Digits for training\", title = \"Final log-likelihood for different sets of digits\")"
   ]
  },
  {
   "cell_type": "markdown",
   "id": "1b06da23-7a7f-4c1b-b2c9-0f607c5f43c6",
   "metadata": {},
   "source": [
    "Here we can see how the RBM perform best with $[1,2,3]$ as the set of digits. "
   ]
  },
  {
   "cell_type": "code",
   "execution_count": null,
   "id": "d058657d-72aa-438a-afde-e918fa9d7721",
   "metadata": {},
   "outputs": [],
   "source": [
    "from tqdm import tqdm\n",
    "\n",
    "gamma_values = [f\"10**{n}\" if n != 0 else \"0\" for n in range(-5, 1)]\n",
    "n_last_likelihoods = 6\n",
    "steps = 6\n",
    "\n",
    "\"\"\"\n",
    "for i, gamma in enumerate(tqdm(gamma_values, desc=\"Gamma values\")):\n",
    "    print(f\"Gamma n° {i+1} (of {len(gamma_values)})\")\n",
    "    # Ciclo interno per eseguire 10 run per ciascun gamma\n",
    "    for j in tqdm(range(10), desc=f\"Run per Gamma {i+1}\", leave=False):\n",
    "        rbm = RBM(X_keep, 6)\n",
    "        rbm.initialize_params()\n",
    "        rbm.training(epochs=150, optimizer=\"RMSprop\", cd_steps=3, gamma=eval(gamma), verbose=True)\n",
    "        rbm.likelihood_history(12, n_last_likelihoods, steps)\n",
    "        save_model(rbm, f\"DATA/6L_150e_RMS_gamma{i+1}_run{j+1}\")\n",
    "\"\"\"\n"
   ]
  },
  {
   "cell_type": "code",
   "execution_count": null,
   "id": "c99a2484-ca95-497f-80c3-d6642b2dd4a0",
   "metadata": {},
   "outputs": [],
   "source": [
    "models = []\n",
    "\n",
    "for i in range(0, 6):\n",
    "    tmp = []\n",
    "    for j in range(0, 10):\n",
    "        tmp.append(load_model(f\"DATA/6L_150e_RMS_gamma{i+1}_run{j+1}\"))\n",
    "    #####\n",
    "    models.append(tmp)\n",
    "#####"
   ]
  },
  {
   "cell_type": "code",
   "execution_count": null,
   "id": "5aff254a-eab4-4d78-9c5a-900d8e3f0e05",
   "metadata": {},
   "outputs": [],
   "source": [
    "models"
   ]
  },
  {
   "cell_type": "code",
   "execution_count": null,
   "id": "5123a3cc-3cba-4ee4-bd18-b65d6a4b7ec4",
   "metadata": {},
   "outputs": [],
   "source": [
    "list_e = models[0][0].log_likelihood.esit_ix\n",
    "list_l_avg = []\n",
    "list_l_std = []\n",
    "\n",
    "for models_opt in models:\n",
    "    likelihoods = np.array([model.log_likelihood.esit for model in models_opt])\n",
    "    list_l_avg.append(likelihoods.mean(axis=0))\n",
    "    list_l_std.append(likelihoods.std(axis=0))\n",
    "#####\n",
    "\n",
    "cmap = cm.plasma\n",
    "colors = [cmap(i) for i in np.linspace(0,1,len(models))]"
   ]
  },
  {
   "cell_type": "code",
   "execution_count": null,
   "id": "68657776-f842-4a00-8614-4e039d563798",
   "metadata": {},
   "outputs": [],
   "source": [
    "colors"
   ]
  },
  {
   "cell_type": "code",
   "execution_count": null,
   "id": "6e4c3856-95ea-488e-96f0-da57377c70c7",
   "metadata": {},
   "outputs": [],
   "source": [
    "import scienceplots\n",
    "plt.style.use([\"science\", \"grid\", \"notebook\"])\n",
    "\n",
    "cmap = plt.cm.plasma\n",
    "plt.figure(figsize=(10, 6))\n",
    "for i, (avg, std) in enumerate(zip(list_l_avg, list_l_std)):\n",
    "    plt.errorbar(list_e, avg, yerr=std, fmt=\"o-\", color=colors[i], label=f\"10^-{5-i}\", capsize=3)\n",
    "\n",
    "plt.gca().set_facecolor('#f9f9f9')\n",
    "plt.legend()\n",
    "plt.grid(True)\n",
    "plt.title(\"Average Models for different $\\gamma$\")\n",
    "plt.xlabel(\"Epochs\")\n",
    "plt.ylabel(\"Log-Likelihood\")\n",
    "plt.show()"
   ]
  },
  {
   "cell_type": "code",
   "execution_count": null,
   "id": "522147de-e77a-4d98-a817-76e1b41db4af",
   "metadata": {},
   "outputs": [],
   "source": [
    "import numpy as np\n",
    "import matplotlib.pyplot as plt\n",
    "list_lr = gamma_values\n",
    "# 1) Selezioniamo gli ultimi 6 valori per ogni curva di log-likelihood (già in 'list_l_avg')\n",
    "n_last_values = 6\n",
    "\n",
    "# Liste per media e deviazione standard degli ultimi 6 valori per ogni learning rate\n",
    "list_last_means = []\n",
    "list_last_stds = []\n",
    "list_labels = [\"$10^{-5}$\", \"$10^{-4}$\", \"$10^{-3}$\", \"$10^{-2}$\", \"$10^{-1}$\", \"$1$\"]  # Per aggiungere le etichette corrispondenti a ciascun learning rate\n",
    "\n",
    "# Estrazione degli ultimi 6 valori da 'list_l_avg' e calcolo della media e deviazione standard\n",
    "for i, (avg, std) in enumerate(zip(list_l_avg, list_l_std)):\n",
    "    last_values_avg = avg[-n_last_values:]  # Gli ultimi 6 valori\n",
    "    last_values_std = std[-n_last_values:]  # Le deviazioni standard corrispondenti\n",
    "    \n",
    "    # Calcoliamo la media e la deviazione standard degli ultimi 6 valori\n",
    "    last_mean = np.average(last_values_avg, weights=last_values_std)\n",
    "    last_std = np.sqrt(1/np.sum(1/last_values_std**2))\n",
    "    \n",
    "    list_last_means.append(last_mean)\n",
    "    list_last_stds.append(last_std)\n",
    "    \n",
    "    # Aggiungiamo la label corrispondente per il learning rate\n",
    "    #list_labels.append(f\"oprimizer = $10^{{{list_lr[i]}}}$\")\n",
    "\n",
    "# 2) Creiamo un grafico a istogramma per confrontare le medie degli ultimi 6 valori\n",
    "plt.figure(figsize=(6.6, 5))\n",
    "\n",
    "# Colori per il grafico\n",
    "colors = plt.cm.plasma(np.linspace(0, 1, len(list_last_means)))\n",
    "\n",
    "# Plottiamo solo i learning rate esclusi quelli con lr = 1\n",
    "bars = plt.bar(list_lr[:], list_last_means[:], yerr=list_last_stds[:], color=\"#00957c\", capsize=5, edgecolor='black', alpha=0.7)\n",
    "\n",
    "# Personalizza il grafico\n",
    "plt.ylim(-180, -155)  # Personalizza i limiti di y in base ai dati\n",
    "plt.gca().set_facecolor('#f9f9f9')\n",
    "plt.xlabel(\"$\\gamma$\")\n",
    "plt.xticks(list_lr, list_labels)\n",
    "plt.ylabel('Mean Log-Likelihood')\n",
    "#plt.title('Final Log-Likelihood for Different $\\gamma$')\n",
    "\n",
    "# Legenda\n",
    "# Legenda nell'angolo in basso a destra\n",
    "\n",
    "# Salvataggio e visualizzazione\n",
    "plt.savefig(\"Final Log-Likelihood for Different gammas.png\", dpi=300, bbox_inches='tight')\n",
    "plt.grid(False)\n",
    "plt.show()"
   ]
  },
  {
   "cell_type": "code",
   "execution_count": null,
   "id": "07cfae0f-c561-4cca-9744-00b4ac3c6098",
   "metadata": {},
   "outputs": [],
   "source": [
    "# Colori per il grafico (uguali a quelli usati in precedenza)\n",
    "colors = plt.cm.plasma(np.linspace(0, 1, len(list_lr)))[::-1]\n",
    "\n",
    "# Colori per il grafico (uguali a quelli usati in precedenza)\n",
    "colors = plt.cm.plasma(np.linspace(0, 1, len(list_lr)))[::-1]\n",
    "\n",
    "# Plot dei risultati\n",
    "plt.figure(figsize=(6.6,5))\n",
    "#plt.figure(figsize=(13.2,10))\n",
    "\n",
    "# Crea il grafico a barre con errori (yerr)\n",
    "bars = plt.bar(list_lr[:], list_last_means[:], yerr=list_last_stds[:], color=\"#00957c\", capsize=5, edgecolor='black', alpha=0.7)\n",
    "\n",
    "# Aggiungi etichette, titolo e altre personalizzazioni\n",
    "plt.ylim(-180, -160)  # Imposta i limiti dell'asse Y\n",
    "plt.gca().set_facecolor('#f9f9f9')  # Colore di sfondo grigio chiaro\n",
    "plt.xlabel('')\n",
    "\n",
    "plt.ylabel('Mean Log-Likelihood',  fontsize=20)\n",
    "\n",
    "# Aggiungi i tick dell'asse X con il prefisso \"L-\" per ogni valore in list_L\n",
    "#plt.xticks(list_lr, [f\"L-{int(val)}\" for val in list_lr], fontsize=20)  # Cambia il formato a seconda di come vuoi visualizzare\n",
    "#plt.xticks(list_lr, [rf\"$\\gamma$-{int(val)}\" for val in list_lr], fontsize=20)\n",
    "plt.xticks(list_lr, [\"$10^{-5}$\", \"$10^{-4}$\", \"$10^{-3}$\", \"$10^{-2}$\", \"$10^{-1}$\", \"$1$\"])\n",
    "#plt.xticks(list_lr, [rf\"$\\gamma$-{int(val)}\" for val in []])\n",
    "#plt.xticks(list_lr, [rf\"$\\gamma$ = {10**-lr:.1e}\" for lr in list_lr])\n",
    "\n",
    "# Legenda nell'angolo in basso a destra\n",
    "#plt.legend(bars, list_labels, loc='lower right', bbox_to_anchor=(1, 0), ncol=1)\n",
    "\n",
    "# Salvataggio e visualizzazione\n",
    "plt.grid(False)\n",
    "plt.savefig(\"Final Log-Likelihood for Different L.png\", dpi=300, bbox_inches='tight')\n",
    "\n",
    "plt.show()"
   ]
  },
  {
   "cell_type": "code",
   "execution_count": null,
   "id": "b7d5f67e-fb90-4973-9960-217986e9eb2e",
   "metadata": {},
   "outputs": [],
   "source": []
  }
 ],
 "metadata": {
  "kernelspec": {
   "display_name": "Python 3 (ipykernel)",
   "language": "python",
   "name": "python3"
  },
  "language_info": {
   "codemirror_mode": {
    "name": "ipython",
    "version": 3
   },
   "file_extension": ".py",
   "mimetype": "text/x-python",
   "name": "python",
   "nbconvert_exporter": "python",
   "pygments_lexer": "ipython3",
   "version": "3.12.2"
  }
 },
 "nbformat": 4,
 "nbformat_minor": 5
}
