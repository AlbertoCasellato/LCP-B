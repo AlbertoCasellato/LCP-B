{
 "cells": [
  {
   "cell_type": "code",
   "execution_count": null,
   "id": "f09a268e",
   "metadata": {},
   "outputs": [],
   "source": [
    "col_names <- c(\"Year_1\", \"Cycle_1\", \"blank1\", \"Year_2\", \"Cycle_2\", \"blank2\", \"Year_3\", \"Cycle_3\")\n",
    "df <- read_excel(\"./data/syntheticData.xlsx\", skip=4, col_names=col_names)\n",
    "df1 <- df[,c(1,2)]\n",
    "\n",
    "# specify the table to use\n",
    "data = df1\n",
    "t_name <- names(data)[1]\n",
    "y_name <- names(data)[2]\n",
    "\n",
    "# specify simulation parameters\n",
    "n.iter <- 50000 \n",
    "# n.iter <- 100\n",
    "n.interval <- 25\n",
    "n.adapt <- floor(0.4 * n.iter)\n",
    "\n",
    "# specify parameters of the model\n",
    "xi_init <- matrix(c(data[[1]], rep(1, nrow(data))), ncol=2)\n",
    "param_init <- list(\n",
    "    xi = xi_init,\n",
    "    A = 10,\n",
    "    phi = 0,\n",
    "    sigma_y = 1\n",
    ")\n",
    "\n",
    "loglikeli <- function(param, data) {\n",
    "    xi <- param$xi[, 2]\n",
    "    \n",
    "    # build time series from intervals\n",
    "    t <- cumsum(xi)\n",
    "    \n",
    "    # calculate frequency\n",
    "    period <- 11 # years\n",
    "    omega <- 2 * pi / period\n",
    "    \n",
    "    y_model <- param$A * cos(omega * t + param$phi)\n",
    "\n",
    "    result <- sum(dnorm(data[[2]], mean=y_model,\n",
    "                           sd=param$sigma_y, log=TRUE))\n",
    "    return(result)\n",
    "}\n",
    "\n",
    "res <- infer.timedeppar(\n",
    "    loglikeli = loglikeli,\n",
    "    param.ini = param_init,\n",
    "    param.log = c(A=FALSE, phi=FALSE, sigma_y=TRUE, xi=TRUE),\n",
    "    param.ou.ini = c(xi_mean=1, xi_sd=0.3), # sets initial guess for OU processes of time-dependent parameters\n",
    "    param.ou.fixed = c(xi_gamma=5),\n",
    "    n.iter = n.iter, # how many MCMC samples generated\n",
    "    control = list(n.interval=n.interval, n.adapt=n.adapt),\n",
    "    data = data\n",
    ")"
   ]
  },
  {
   "cell_type": "code",
   "execution_count": null,
   "id": "0a6c94d6",
   "metadata": {},
   "outputs": [],
   "source": [
    "library(readxl)\n",
    "library(timedeppar)"
   ]
  },
  {
   "cell_type": "code",
   "execution_count": null,
   "id": "4cc8006c",
   "metadata": {},
   "outputs": [],
   "source": []
  }
 ],
 "metadata": {
  "kernelspec": {
   "display_name": "R",
   "language": "R",
   "name": "ir"
  },
  "language_info": {
   "codemirror_mode": "r",
   "file_extension": ".r",
   "mimetype": "text/x-r-source",
   "name": "R",
   "pygments_lexer": "r",
   "version": "4.5.0"
  }
 },
 "nbformat": 4,
 "nbformat_minor": 5
}
